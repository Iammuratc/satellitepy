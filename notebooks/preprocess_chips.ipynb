{
 "cells": [
  {
   "cell_type": "code",
   "execution_count": 1,
   "metadata": {},
   "outputs": [],
   "source": [
    "from satellitepy.data.labels import read_label\n",
    "from satellitepy.utils.path_utils import get_file_paths, create_folder\n",
    "\n",
    "from pathlib import Path\n",
    "import shutil"
   ]
  },
  {
   "cell_type": "code",
   "execution_count": null,
   "metadata": {},
   "outputs": [],
   "source": [
    "# set_name = 'val' # val\n",
    "# class_name = 'fine-class'\n",
    "# img_folder = Path(f'/mnt/2tb-0/satellitepy/chips_fair1m/{set_name}/images')\n",
    "# label_folder = Path(f'/mnt/2tb-0/satellitepy/chips_fair1m/{set_name}/labels')\n",
    "# out_img_folder = Path(f'/mnt/2tb-0/satellitepy/chips_fair1m/{set_name}_fineair/images')\n",
    "# out_label_folder = Path(f'/mnt/2tb-0/satellitepy/chips_fair1m/{set_name}_fineair/labels')\n",
    "\n",
    "# assert create_folder(out_img_folder)\n",
    "# assert create_folder(out_label_folder)\n",
    "\n",
    "# overlapping_objects = ['Boeing747', 'Boeing787', 'A330', 'Boeing777', 'A350', 'A321', 'A220', 'Boeing737'] #, 'ARJ21',  'C919']\n"
   ]
  },
  {
   "cell_type": "markdown",
   "metadata": {},
   "source": [
    "# Extract the overlapping objects from FineAir"
   ]
  },
  {
   "cell_type": "code",
   "execution_count": 10,
   "metadata": {},
   "outputs": [],
   "source": [
    "set_name = 'test' # val\n",
    "class_name = 'fineair-class'\n",
    "img_folder = Path(f'/mnt/2tb-1/satellitepy/data/FR24_chips/{set_name}/images')\n",
    "label_folder = Path(f'/mnt/2tb-1/satellitepy/data/FR24_chips/{set_name}/labels')\n",
    "out_img_folder = Path(f'/mnt/2tb-1/satellitepy/data/FR24_chips/{set_name}_fair1m/images')\n",
    "out_label_folder = Path(f'/mnt/2tb-1/satellitepy/data/FR24_chips/{set_name}_fair1m/labels')\n",
    "\n",
    "assert create_folder(out_img_folder)\n",
    "assert create_folder(out_label_folder)\n",
    "\n",
    "overlapping_objects = ['A220', 'A321', 'A330', 'A350', 'B737', 'B747', 'B777', 'B787']\n",
    "\n"
   ]
  },
  {
   "cell_type": "code",
   "execution_count": 11,
   "metadata": {},
   "outputs": [
    {
     "name": "stdout",
     "output_type": "stream",
     "text": [
      "Original label folder has 836 chips.\n",
      "Destination label folder has 349 chips.\n"
     ]
    }
   ],
   "source": [
    "img_paths = get_file_paths(img_folder)\n",
    "label_paths = get_file_paths(label_folder)\n",
    "\n",
    "print(f'Original label folder has {len(label_paths)} chips.')\n",
    "for img_path, label_path in zip(img_paths,label_paths):\n",
    "    label = read_label(label_path, label_format='satellitepy')\n",
    "\n",
    "    if label[class_name][0] in overlapping_objects:\n",
    "        shutil.copy2(img_path, out_img_folder)\n",
    "        shutil.copy2(label_path, out_label_folder)\n",
    "        \n",
    "print(f'Destination label folder has {len(get_file_paths(out_label_folder))} chips.')\n",
    "  \n"
   ]
  },
  {
   "cell_type": "code",
   "execution_count": null,
   "metadata": {},
   "outputs": [],
   "source": []
  }
 ],
 "metadata": {
  "kernelspec": {
   "display_name": "venv_satellitepy",
   "language": "python",
   "name": "python3"
  },
  "language_info": {
   "codemirror_mode": {
    "name": "ipython",
    "version": 3
   },
   "file_extension": ".py",
   "mimetype": "text/x-python",
   "name": "python",
   "nbconvert_exporter": "python",
   "pygments_lexer": "ipython3",
   "version": "3.10.12"
  }
 },
 "nbformat": 4,
 "nbformat_minor": 2
}
