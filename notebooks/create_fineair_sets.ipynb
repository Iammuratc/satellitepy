{
 "cells": [
  {
   "cell_type": "code",
   "execution_count": 1,
   "metadata": {},
   "outputs": [],
   "source": [
    "%load_ext autoreload\n",
    "%autoreload 2"
   ]
  },
  {
   "cell_type": "markdown",
   "metadata": {},
   "source": [
    "# Get the sets"
   ]
  },
  {
   "cell_type": "code",
   "execution_count": 2,
   "metadata": {},
   "outputs": [
    {
     "name": "stderr",
     "output_type": "stream",
     "text": [
      "/home/murat/Projects/satellitepy/venv_satellitepy/lib/python3.10/site-packages/mmcv/__init__.py:20: UserWarning: On January 1, 2023, MMCV will release v2.0.0, in which it will remove components related to the training process and add a data transformation module. In addition, it will rename the package names mmcv to mmcv-lite and mmcv-full to mmcv. See https://github.com/open-mmlab/mmcv/blob/master/docs/en/compatibility.md for more details.\n",
      "  warnings.warn(\n"
     ]
    }
   ],
   "source": [
    "import os\n",
    "os.environ[\"OPENCV_IO_MAX_IMAGE_PIXELS\"] = str(pow(2,40)).__str__()\n",
    "from satellitepy.data.labels import read_label, init_satellitepy_label, set_image_keys, get_all_satellitepy_keys\n",
    "from satellitepy.utils.path_utils import get_file_paths, create_folder\n",
    "from satellitepy.data.utils import get_satellitepy_dict_values, count_unique_values, get_satellitepy_table, read_img, set_satellitepy_dict_values\n",
    "from satellitepy.data.bbox import BBox\n",
    "from satellitepy.data.patch import is_truncated, shift_bboxes, create_patch_polygon, get_intersection\n",
    "from satellitepy.data.tools import show_labels_on_images\n",
    "\n",
    "import cv2\n",
    "import random\n",
    "import numpy as np\n",
    "import itertools\n",
    "import sys\n",
    "from pathlib import Path\n",
    "from tqdm.notebook import tqdm\n",
    "import matplotlib.pyplot as plt\n",
    "import json"
   ]
  },
  {
   "cell_type": "code",
   "execution_count": null,
   "metadata": {},
   "outputs": [],
   "source": [
    "# img_folder = Path(\"/mnt/2tb-1/satellitepy/data/FR24_dataset/images/\")\n",
    "# label_folder = Path(\"/mnt/2tb-1/satellitepy/data/FR24_dataset/labels_fineair/role_th_50/\")\n",
    "# label_format = 'fineair' # \n",
    "# test_img_sz = 8000\n",
    "# intersection_th = 0.91\n",
    "# test_sum_ratio_th = 0.15\n",
    "# bbox_for_intersection = 'dbboxes'\n",
    "# delete_output_files = False\n",
    "# input_img_ext = 'tif'\n",
    "# img_read_module = 'rasterio'\n",
    "\n",
    "# train_label_folder = Path(\"/mnt/2tb-1/satellitepy/data/FR24_sets/train/labels\")\n",
    "# train_img_folder = Path(\"/mnt/2tb-1/satellitepy/data/FR24_sets/train/images\")\n",
    "# test_label_folder = Path(\"/mnt/2tb-1/satellitepy/data/FR24_sets/test/labels\")\n",
    "# test_img_folder = Path(\"/mnt/2tb-1/satellitepy/data/FR24_sets/test/images\")\n",
    "\n",
    "\n",
    "# for folder in [train_img_folder, train_label_folder, test_img_folder, test_label_folder]:\n",
    "#     assert create_folder(folder)\n"
   ]
  },
  {
   "cell_type": "code",
   "execution_count": null,
   "metadata": {},
   "outputs": [],
   "source": [
    "img_folder = Path(\"/mnt/2tb-1/satellitepy/data/FR24_sets/train/images\")\n",
    "label_folder = Path(\"/mnt/2tb-1/satellitepy/data/FR24_sets/train/labels\")\n",
    "label_format = 'satellitepy' # \n",
    "test_img_sz = 6000\n",
    "intersection_th = 0.91\n",
    "test_sum_ratio_th = 0.15\n",
    "bbox_for_intersection = 'obboxes'\n",
    "img_read_module = 'cv2'\n",
    "input_img_ext = 'png'\n",
    "delete_output_files = True\n",
    "\n",
    "train_label_folder = Path(\"/mnt/2tb-1/satellitepy/data/FR24_sets/only_train/labels\")\n",
    "train_img_folder = Path(\"/mnt/2tb-1/satellitepy/data/FR24_sets/only_train/images\")\n",
    "test_label_folder = Path(\"/mnt/2tb-1/satellitepy/data/FR24_sets/val/labels\")\n",
    "test_img_folder = Path(\"/mnt/2tb-1/satellitepy/data/FR24_sets/val/images\")\n",
    "\n",
    "\n",
    "\n",
    "for folder in [train_img_folder, train_label_folder, test_img_folder, test_label_folder]:\n",
    "    assert create_folder(folder)"
   ]
  },
  {
   "cell_type": "markdown",
   "metadata": {},
   "source": [
    "## WARNING! THIS WILL DELETE ALL IMAGES AND LABELS IN OUTPUT FOLDERS"
   ]
  },
  {
   "cell_type": "code",
   "execution_count": 6,
   "metadata": {},
   "outputs": [],
   "source": [
    "def remove_all_files(folder_path):\n",
    "    folder = Path(folder_path)\n",
    "    for file in folder.iterdir():\n",
    "        if file.is_file():\n",
    "            file.unlink()\n",
    "\n",
    "if delete_output_files:\n",
    "    remove_all_files(test_img_folder)\n",
    "    remove_all_files(test_label_folder)\n",
    "    remove_all_files(train_img_folder)\n",
    "    remove_all_files(train_label_folder)"
   ]
  },
  {
   "cell_type": "markdown",
   "metadata": {},
   "source": [
    "## Get patch labels"
   ]
  },
  {
   "cell_type": "code",
   "execution_count": 7,
   "metadata": {},
   "outputs": [],
   "source": [
    "def get_patch_dict(label, test_img_size, margin=100, intersection_th=0.95):\n",
    "\n",
    "    satellitepy_fac = get_satellitepy_table()['fineair-class']\n",
    "    \n",
    "    # Define patch starting coords\n",
    "    patch_start_coords = []\n",
    "    for i, bbox_corners in enumerate(label[bbox_for_intersection]):\n",
    "        bbox = BBox(corners=bbox_corners)\n",
    "        x_min, x_max, y_min, y_max = bbox.get_bbox_limits(bbox.corners)\n",
    "        x_0, y_0 = np.maximum(x_min - margin,0), np.maximum(y_min - margin,0)\n",
    "        patch_start_coords.append([x_0,y_0])\n",
    "\n",
    "    # Set patch \n",
    "    patch_dict = {\n",
    "        'test_indices': [[] for _ in range(len(patch_start_coords))],\n",
    "        'train_indices':[[] for _ in range(len(patch_start_coords))],\n",
    "        'test_fac':[[] for _ in range(len(patch_start_coords))],\n",
    "        'test_fac_count':[[0 for fac_i in range(len(set(satellitepy_fac.values())))] for _ in range(len(patch_start_coords))],\n",
    "        'train_fac':[[] for _ in range(len(patch_start_coords))],\n",
    "        'train_fac_count':[[0 for fac_i in range(len(set(satellitepy_fac.values())))] for _ in range(len(patch_start_coords))],\n",
    "        'start_coords': patch_start_coords,\n",
    "        }\n",
    "    for i, patch_start_coord in enumerate(patch_start_coords):\n",
    "        x_0, y_0 = patch_start_coord\n",
    "        patch_polygon = create_patch_polygon(x_0=x_0, y_0=y_0, patch_size=test_img_size)\n",
    "        fineair_classes = get_satellitepy_dict_values(label,task='fineair-class')\n",
    "        for j, bbox_corners in enumerate(label[bbox_for_intersection]):\n",
    "            intersection = get_intersection(bbox_corners=bbox_corners, patch_polygon=patch_polygon)\n",
    "            # is_truncated_bbox = is_truncated(bbox_corners=bbox_corners, patch_polygon=patch_polygon, relative_area_threshold=relative_area_thr)\n",
    "            ## Set the labels to empty because of cutoff objects\n",
    "            if intersection == 0:\n",
    "                continue\n",
    "            if intersection > 0 and intersection_th > intersection:\n",
    "                # patch_dict['labels'][i] = []\n",
    "                patch_dict['test_indices'][i] = []\n",
    "                patch_dict['test_fac'][i] = []\n",
    "                break\n",
    "            else:\n",
    "                # patch_dict['labels'][i] = set_image_keys(get_all_satellitepy_keys(), patch_dict['labels'][i], label, j)\n",
    "                patch_dict['test_indices'][i].append(j)\n",
    "                patch_dict['test_fac'][i].append(fineair_classes[j])\n",
    "        patch_dict['train_indices'][i] = list(set(range(len(label[bbox_for_intersection])))-set(patch_dict['test_indices'][i]))\n",
    "        patch_dict['train_fac'][i] = [fineair_classes[j] for j in patch_dict['train_indices'][i]]\n",
    "\n",
    "        # Set train fac count and test fac count\n",
    "        for fac in patch_dict['train_fac'][i]:\n",
    "            fac_i = satellitepy_fac[fac]\n",
    "            patch_dict['train_fac_count'][i][fac_i] += 1 \n",
    "        for fac in patch_dict['test_fac'][i]:\n",
    "            fac_i = satellitepy_fac[fac]\n",
    "            patch_dict['test_fac_count'][i][fac_i] += 1\n",
    "    return patch_dict\n",
    "        "
   ]
  },
  {
   "cell_type": "code",
   "execution_count": 8,
   "metadata": {},
   "outputs": [
    {
     "name": "stderr",
     "output_type": "stream",
     "text": [
      "/home/murat/Projects/satellitepy/venv_satellitepy/lib/python3.10/site-packages/shapely/set_operations.py:133: RuntimeWarning: invalid value encountered in intersection\n",
      "  return lib.intersection(a, b, **kwargs)\n"
     ]
    }
   ],
   "source": [
    "label_paths = get_file_paths(label_folder)\n",
    "\n",
    "\n",
    "patch_dicts = {}\n",
    "\n",
    "for label_path in label_paths:\n",
    "    label = read_label(label_path=label_path,label_format=label_format)\n",
    "    patch_dict = get_patch_dict(label=label,test_img_size=test_img_sz, intersection_th=intersection_th)\n",
    "    label_file_name = label_path.name\n",
    "    patch_dicts[label_file_name] = patch_dict\n",
    "\n"
   ]
  },
  {
   "cell_type": "markdown",
   "metadata": {},
   "source": [
    "## Get one patch from each original image for the test set"
   ]
  },
  {
   "cell_type": "code",
   "execution_count": 9,
   "metadata": {},
   "outputs": [],
   "source": [
    "def unique_lists_with_indices(list_of_lists):\n",
    "    unique_dict = {}\n",
    "    \n",
    "    for idx, sublist in enumerate(list_of_lists):\n",
    "        # Convert the list to a tuple so it can be used as a dictionary key\n",
    "        tuple_sublist = tuple(sublist)\n",
    "        \n",
    "        # Store the sublist and its first occurrence index if it's unique\n",
    "        if tuple_sublist not in unique_dict:\n",
    "            unique_dict[tuple_sublist] = idx\n",
    "    \n",
    "    # Extract unique lists and their indices\n",
    "    unique_lists = [list(key) for key in unique_dict.keys()]\n",
    "    unique_indices = list(unique_dict.values())\n",
    "    \n",
    "    return unique_lists, unique_indices\n",
    "\n",
    "# Test case\n",
    "# input_list = [[1, 1], [2, 2], [1, 1]]\n",
    "# unique_lists, unique_indices = unique_lists_with_indices(input_list)\n",
    "# print(\"Unique Lists:\", unique_lists)\n",
    "# print(\"Indices of First Occurrences:\", unique_indices)"
   ]
  },
  {
   "cell_type": "code",
   "execution_count": 10,
   "metadata": {},
   "outputs": [],
   "source": [
    "def compute_test_train_pairs(patch_dicts):\n",
    "    \n",
    "    orig_test_train_pair_indices = []\n",
    "    all_test_train_pairs = []\n",
    "    all_test_train_pair_indices = []\n",
    "    # Iterate through each dictionary in B\n",
    "    for img_name, patch_dict in patch_dicts.items():\n",
    "        test_indices, unique_patch_indices = unique_lists_with_indices(patch_dict['test_indices'])\n",
    "        ## Remove empty list from test indices\n",
    "        if len(unique_patch_indices) == 0:\n",
    "            print(img_name)\n",
    "        else:\n",
    "            for i, test_ind in enumerate(test_indices.copy()):\n",
    "                if test_ind == []:\n",
    "                    test_indices.pop(i)\n",
    "                    unique_patch_indices.pop(i)\n",
    "        train_indices = [ind for i, ind in enumerate(patch_dict['train_indices']) if i in unique_patch_indices]\n",
    "        # if img_name == 'O_Hare_Int_Airport_23FEB28165710.json':\n",
    "        #     print(patch_dict['train_indices'])\n",
    "        # train_fac = [fac for i, fac in enumerate(patch_dict['train_fac']) if i in unique_patch_indices]\n",
    "        # test_fac = [fac for i, fac in enumerate(patch_dict['test_fac']) if i in unique_patch_indices]\n",
    "        test_fac_count = [fac for i, fac in enumerate(patch_dict['test_fac_count']) if i in unique_patch_indices]\n",
    "        train_fac_count = [fac for i, fac in enumerate(patch_dict['train_fac_count']) if i in unique_patch_indices]\n",
    "        test_train_pairs = list(zip(test_fac_count, train_fac_count))\n",
    "        test_train_pair_indices = list(zip(test_indices, train_indices))\n",
    "        all_test_train_pairs.append(test_train_pairs)\n",
    "        all_test_train_pair_indices.append(test_train_pair_indices)\n",
    "        orig_test_train_pair_indices.append(unique_patch_indices)\n",
    "    return all_test_train_pairs, all_test_train_pair_indices, orig_test_train_pair_indices\n"
   ]
  },
  {
   "cell_type": "code",
   "execution_count": 11,
   "metadata": {},
   "outputs": [],
   "source": [
    "test_train_pairs, test_train_pair_indices, orig_test_train_pair_indices = compute_test_train_pairs(patch_dicts)\n",
    "# print(test_train_pair_indices[0][17])\n",
    "# print(orig_test_train_pair_indices)\n",
    "# print(list(patch_dicts.values())[0]['test_indices'][17])\n",
    "# print(list(patch_dicts.values())[0]['train_indices'])\n",
    "\n",
    "for i, s in enumerate(test_train_pairs):\n",
    "    if len(s) <= 0:\n",
    "        print(s)\n",
    "        print(len(s),i)\n",
    "        print(list(patch_dicts.keys())[i])\n",
    "        print(list(patch_dicts.values())[i])\n"
   ]
  },
  {
   "cell_type": "markdown",
   "metadata": {},
   "source": [
    "## Cartesian options"
   ]
  },
  {
   "cell_type": "code",
   "execution_count": 12,
   "metadata": {},
   "outputs": [],
   "source": [
    "# Calculate the number of elements in each set\n",
    "# lengths = [len(s) for s in test_train_pairs]\n",
    "\n",
    "def cartesian_with_indices(all_test_train_pairs):\n",
    "    # Calculate the product of all test-train pairs across dictionaries in B\n",
    "    for combination in itertools.product(*all_test_train_pairs):\n",
    "         # Find indices of elements in their respective sets\n",
    "        indices = [s.index(elem) for s, elem in zip(all_test_train_pairs, combination)]\n",
    "        yield combination, indices\n",
    "\n",
    "def random_cartesian_with_indices(sets, num_samples):\n",
    "    for _ in range(num_samples):\n",
    "        # Randomly choose an index for each set\n",
    "        indices = [random.randint(0, len(s) - 1) for s in sets]\n",
    "        # Get the elements at the chosen indices\n",
    "        sample = [sets[i][index] for i, index in enumerate(indices)]\n",
    "        yield sample, indices"
   ]
  },
  {
   "cell_type": "code",
   "execution_count": 13,
   "metadata": {},
   "outputs": [],
   "source": [
    "\n",
    "def get_cartesian_test_train_pairs(sets, test_sum_ratio_th):\n",
    "    best_indices = [0]*len(sets)\n",
    "    best_sum_ratio_dif = np.inf\n",
    "    best_test_to_all_ratio = np.Inf\n",
    "    # for combination, indices in cartesian_with_indices(sets):\n",
    "    for combination, indices in random_cartesian_with_indices(test_train_pairs, 100000):\n",
    "\n",
    "        test_sum = np.sum(np.array(combination)[:,0],axis=0)\n",
    "        train_sum = np.sum(np.array(combination)[:,1],axis=0)\n",
    "        total_sum = np.sum(a=[test_sum,train_sum],axis=1)\n",
    "\n",
    "        test_sum_ratio = test_sum / total_sum[0]\n",
    "        train_sum_ratio = train_sum / total_sum[1]\n",
    "        test_to_all_ratio = total_sum[0]/np.sum(total_sum)\n",
    "        sum_ratio_dif = np.sum(np.abs(test_sum_ratio-train_sum_ratio)) # train and test set ratio difference\n",
    "\n",
    "        if (best_test_to_all_ratio+0.001 >= np.abs(test_to_all_ratio-test_sum_ratio_th)) and (sum_ratio_dif <= best_sum_ratio_dif):\n",
    "            print('# Test instances: ', test_sum)\n",
    "            print('# Train instances: ',train_sum)\n",
    "            print('# Total instances (ratio): ', total_sum, test_to_all_ratio)\n",
    "            print('Absolute sum diff: ', sum_ratio_dif)\n",
    "            print(indices)\n",
    "            best_sum_ratio_dif = sum_ratio_dif\n",
    "            best_test_to_all_ratio = np.abs(test_to_all_ratio-test_sum_ratio_th)\n",
    "            best_indices = indices\n",
    "    return best_indices"
   ]
  },
  {
   "cell_type": "code",
   "execution_count": 14,
   "metadata": {},
   "outputs": [
    {
     "name": "stdout",
     "output_type": "stream",
     "text": [
      "# Test instances:  [ 5 11 45 36 15  0  6  0 38 72  5  4 17 24 11  2  6  3 12  2  0 51  8]\n",
      "# Train instances:  [ 62 142 487 394 153   0 108   0 682 667  42  50 101 221 114  45  46  89  33  60   0 632 183]\n",
      "# Total instances (ratio):  [ 373 4311] 0.0796327924850555\n",
      "Absolute sum diff:  0.2553962896835391\n",
      "[10, 7, 1, 13, 15, 3, 8, 1, 9, 5, 10, 2, 23, 10, 1, 13, 6, 27, 5, 14, 29, 6, 0, 17, 1, 6, 15, 1, 22, 4, 8, 17, 4, 15, 19, 3, 11, 17, 2, 4, 6]\n",
      "# Test instances:  [11 12 53 31 13  0 14  0 60 81  5  3 12 22 14  9  4  8  2  9  0 71 25]\n",
      "# Train instances:  [ 56 141 479 399 155   0 100   0 660 658  42  51 106 223 111  38  48  84  43  53   0 612 166]\n",
      "# Total instances (ratio):  [ 459 4225] 0.0979931682322801\n",
      "Absolute sum diff:  0.1785832334248624\n",
      "[14, 1, 10, 13, 3, 1, 5, 9, 9, 13, 3, 5, 0, 21, 13, 6, 2, 11, 8, 18, 27, 0, 10, 12, 5, 0, 14, 5, 15, 4, 5, 18, 5, 9, 13, 1, 9, 6, 5, 12, 11]\n",
      "# Test instances:  [ 5 10 51 44 12  0 14  0 72 83  3  6 12 36 12 11  8  6 10  5  0 81 25]\n",
      "# Train instances:  [ 62 143 481 386 156   0 100   0 648 656  44  48 106 209 113  36  44  86  35  57   0 602 166]\n",
      "# Total instances (ratio):  [ 506 4178] 0.10802732707087959\n",
      "Absolute sum diff:  0.17539265529774822\n",
      "[11, 0, 15, 2, 3, 1, 16, 1, 14, 8, 5, 8, 14, 24, 20, 7, 5, 5, 8, 13, 16, 1, 19, 6, 4, 6, 6, 2, 11, 16, 25, 12, 15, 25, 6, 6, 8, 11, 11, 15, 1]\n",
      "# Test instances:  [14 12 56 50 19  0 13  0 78 66  4  3 10 25 10 11  2  5 14  7  0 78 26]\n",
      "# Train instances:  [ 53 141 476 380 149   0 101   0 642 673  43  51 108 220 115  36  50  87  31  55   0 605 165]\n",
      "# Total instances (ratio):  [ 503 4181] 0.1073868488471392\n",
      "Absolute sum diff:  0.17209253448455405\n",
      "[2, 8, 16, 13, 11, 8, 18, 7, 8, 2, 13, 3, 26, 18, 24, 10, 10, 0, 2, 12, 17, 12, 4, 22, 4, 1, 7, 1, 5, 11, 14, 4, 13, 20, 3, 4, 4, 10, 7, 11, 1]\n",
      "# Test instances:  [12 17 56 43 19  0 16  0 79 95  6  5 15 28 10  6  3  4 16  7  0 62 18]\n",
      "# Train instances:  [ 55 136 476 387 149   0  98   0 641 644  41  49 103 217 115  41  49  88  29  55   0 621 173]\n",
      "# Total instances (ratio):  [ 517 4167] 0.11037574722459437\n",
      "Absolute sum diff:  0.16424805938155507\n",
      "[8, 0, 12, 3, 16, 5, 19, 9, 2, 11, 12, 17, 19, 26, 9, 0, 7, 20, 8, 10, 0, 1, 0, 15, 0, 4, 2, 1, 0, 13, 14, 7, 0, 11, 1, 3, 8, 17, 1, 7, 10]\n",
      "# Test instances:  [ 10  10  66  53  25   0  16   0  75 101   6   7  11  37  13  12   7  12   2   9   0  87  22]\n",
      "# Train instances:  [ 57 143 466 377 143   0  98   0 645 638  41  47 107 208 112  35  45  80  43  53   0 596 169]\n",
      "# Total instances (ratio):  [ 581 4103] 0.1240392826643894\n",
      "Absolute sum diff:  0.1376919537066829\n",
      "[4, 6, 8, 5, 12, 14, 3, 10, 3, 7, 10, 18, 17, 19, 0, 6, 1, 16, 6, 12, 10, 8, 6, 16, 5, 6, 2, 7, 19, 0, 25, 10, 7, 25, 1, 6, 9, 11, 5, 15, 1]\n",
      "# Test instances:  [ 5 10 75 50 20  0 11  0 96 96  6  5 17 33 16 13  2 11  1  7  0 82 25]\n",
      "# Train instances:  [ 62 143 457 380 148   0 103   0 624 643  41  49 101 212 109  34  50  81  44  55   0 601 166]\n",
      "# Total instances (ratio):  [ 581 4103] 0.1240392826643894\n",
      "Absolute sum diff:  0.134223604490732\n",
      "[16, 4, 2, 6, 10, 7, 20, 2, 5, 5, 11, 18, 25, 20, 9, 1, 10, 8, 6, 13, 16, 13, 5, 4, 6, 1, 6, 5, 1, 3, 11, 10, 11, 9, 5, 6, 12, 17, 10, 13, 8]\n"
     ]
    }
   ],
   "source": [
    "result = get_cartesian_test_train_pairs(test_train_pairs, test_sum_ratio_th=test_sum_ratio_th)"
   ]
  },
  {
   "cell_type": "code",
   "execution_count": 21,
   "metadata": {},
   "outputs": [
    {
     "name": "stdout",
     "output_type": "stream",
     "text": [
      "[22, 16, 0, 19, 10, 18, 2, 5, 17, 18, 19, 13, 44, 3, 28, 19, 9, 27, 3, 20, 22, 8, 2, 7, 11, 2, 6, 3, 11, 9, 27, 33, 16, 19, 23, 3, 4, 3, 4, 3, 9]\n"
     ]
    }
   ],
   "source": [
    "print(result)"
   ]
  },
  {
   "cell_type": "markdown",
   "metadata": {},
   "source": [
    "## Save the splits"
   ]
  },
  {
   "cell_type": "code",
   "execution_count": 15,
   "metadata": {},
   "outputs": [],
   "source": [
    "\n",
    "def save_sets(patch_dicts,best_indices,test_train_pair_indices, orig_test_train_pair_indices):\n",
    "    \n",
    "    # for file_name, patch_dict in patch_dicts.items():\n",
    "    file_names = list(patch_dicts.keys())\n",
    "    tasks = get_all_satellitepy_keys()\n",
    "    for i, ind in enumerate(best_indices):\n",
    "        # i : original image index\n",
    "        # ind : patch index within the original image\n",
    "\n",
    "        orig_ind = orig_test_train_pair_indices[i][ind]\n",
    "        # Save labels\n",
    "        file_name = Path(file_names[i]).stem\n",
    "        train_img_path = train_img_folder/f\"{file_name}.png\"\n",
    "        if train_img_path.is_file():\n",
    "             print(f'{file_name} exists in the destination train folder, skipped...')\n",
    "             continue\n",
    "        patch_dict = patch_dicts[file_names[i]]\n",
    "        label_path = label_folder / file_names[i]\n",
    "        label = read_label(label_path=label_path,label_format=label_format)\n",
    "        test_label = init_satellitepy_label()\n",
    "        train_label = init_satellitepy_label()\n",
    "        x_0, y_0 = patch_dict['start_coords'][orig_ind]\n",
    "\n",
    "        # Set test and train labels\n",
    "        ## Unique values are calculated previously for test_train_pairs\n",
    "        ## Use the corresponding unique value indices to find the train-test pair indices\n",
    "        test_indices, train_indices = test_train_pair_indices[i][ind]\n",
    "        # test_indices = patch_dict['test_indices'][ind]\n",
    "        # train_indices = patch_dict['train_indices'][ind]\n",
    "        # print(test_train_pair_indices[i][ind])\n",
    "        print(test_indices)\n",
    "        print(f\"Test image has {len(test_indices)} airplanes.\")\n",
    "        print(train_indices)\n",
    "        # if len(test_indices) == 0:\n",
    "        #     print(f\"{file_name} has no test objects, original image will be saved into the train folder.\")\n",
    "        #     train_label_path = train_label_folder / f\"{file_name}.json\"\n",
    "        #     with open(str(train_label_path), 'w') as f:\n",
    "        #         json.dump(train_label, f, indent=4)\n",
    "        #     img = read_img(img_path=img_folder/f\"{file_name}.tif\", module='rasterio')\n",
    "        #     cv2.imwrite(str(train_img_folder/f\"{file_name}.png\"),img)\n",
    "        #     continue\n",
    "        for task in tasks:\n",
    "            task_values = get_satellitepy_dict_values(label,task=task)\n",
    "            test_task_values = []\n",
    "            train_task_values = []\n",
    "            for task_value_i, task_value in enumerate(task_values):\n",
    "                if task_value_i in test_indices:\n",
    "                    test_task_values.append(task_value)\n",
    "                elif task_value_i in train_indices:\n",
    "                    train_task_values.append(task_value)\n",
    "            test_label = set_satellitepy_dict_values(test_label,task=task,value=test_task_values)\n",
    "            train_label = set_satellitepy_dict_values(train_label,task=task,value=train_task_values)\n",
    "\n",
    "        # shift test bboxes\n",
    "        for bbox_task in ['obboxes','hbboxes']:\n",
    "            bbox_values = get_satellitepy_dict_values(test_label,task=bbox_task)\n",
    "            shifted_bbox_values = (np.array(bbox_values) - [x_0, y_0]).tolist()\n",
    "            test_label = set_satellitepy_dict_values(test_label,task=bbox_task,value=shifted_bbox_values)\n",
    "\n",
    "        test_label_path = test_label_folder / f\"{file_name}.json\"\n",
    "        train_label_path = train_label_folder / f\"{file_name}.json\"\n",
    "\n",
    "        with open(str(test_label_path), 'w+') as f:\n",
    "                json.dump(test_label, f, indent=4)\n",
    "        with open(str(train_label_path), 'w+') as f:\n",
    "                json.dump(train_label, f, indent=4)\n",
    "\n",
    "        # Save images\n",
    "        img = read_img(img_path=str(img_folder/f\"{file_name}.{input_img_ext}\"), module=img_read_module)\n",
    "        test_img = img[y_0:y_0+test_img_sz, x_0:x_0+test_img_sz, :]\n",
    "        train_mask = np.ones_like(img, dtype=np.uint8)\n",
    "        train_mask[y_0:y_0+test_img_sz, x_0:x_0+test_img_sz, :] = 0\n",
    "        train_img = img*train_mask\n",
    "        cv2.imwrite(str(train_img_path),train_img)\n",
    "        cv2.imwrite(str(test_img_folder/f\"{file_name}.png\"),test_img)\n"
   ]
  },
  {
   "cell_type": "code",
   "execution_count": 33,
   "metadata": {},
   "outputs": [
    {
     "name": "stdout",
     "output_type": "stream",
     "text": [
      "[7, 8, 9, 10, 53, 54, 55, 56, 57, 58, 73, 74, 75, 76, 77, 79, 80, 81, 82, 83, 84, 85, 86, 87, 88, 89, 90, 91, 92, 93, 94, 95, 96, 97, 98, 99, 100, 101, 102, 103, 104, 105, 106, 107, 108, 109, 110, 111, 112, 113, 114, 115, 116, 117, 118, 119, 120, 121, 122, 123, 124, 125, 126, 127, 128, 129, 130, 131, 132, 133, 134, 135, 136, 137, 138, 139, 140, 141, 142, 143, 144]\n",
      "Test image has 81 airplanes.\n",
      "[0, 1, 2, 3, 4, 5, 6, 11, 12, 13, 14, 15, 16, 17, 18, 19, 20, 21, 22, 23, 24, 25, 26, 27, 28, 29, 30, 31, 32, 33, 34, 35, 36, 37, 38, 39, 40, 41, 42, 43, 44, 45, 46, 47, 48, 49, 50, 51, 52, 59, 60, 61, 62, 63, 64, 65, 66, 67, 68, 69, 70, 71, 72, 78]\n"
     ]
    },
    {
     "ename": "RasterioIOError",
     "evalue": "/mnt/2tb-1/satellitepy/data/FR24_dataset/images/Amsterdam_23MAR14104929..png: No such file or directory",
     "output_type": "error",
     "traceback": [
      "\u001b[0;31m---------------------------------------------------------------------------\u001b[0m",
      "\u001b[0;31mCPLE_OpenFailedError\u001b[0m                      Traceback (most recent call last)",
      "File \u001b[0;32mrasterio/_base.pyx:310\u001b[0m, in \u001b[0;36mrasterio._base.DatasetBase.__init__\u001b[0;34m()\u001b[0m\n",
      "File \u001b[0;32mrasterio/_base.pyx:221\u001b[0m, in \u001b[0;36mrasterio._base.open_dataset\u001b[0;34m()\u001b[0m\n",
      "File \u001b[0;32mrasterio/_err.pyx:221\u001b[0m, in \u001b[0;36mrasterio._err.exc_wrap_pointer\u001b[0;34m()\u001b[0m\n",
      "\u001b[0;31mCPLE_OpenFailedError\u001b[0m: /mnt/2tb-1/satellitepy/data/FR24_dataset/images/Amsterdam_23MAR14104929..png: No such file or directory",
      "\nDuring handling of the above exception, another exception occurred:\n",
      "\u001b[0;31mRasterioIOError\u001b[0m                           Traceback (most recent call last)",
      "Cell \u001b[0;32mIn[33], line 1\u001b[0m\n\u001b[0;32m----> 1\u001b[0m \u001b[43msave_sets\u001b[49m\u001b[43m(\u001b[49m\u001b[43mpatch_dicts\u001b[49m\u001b[38;5;241;43m=\u001b[39;49m\u001b[43mpatch_dicts\u001b[49m\u001b[43m,\u001b[49m\n\u001b[1;32m      2\u001b[0m \u001b[43m    \u001b[49m\u001b[43mbest_indices\u001b[49m\u001b[38;5;241;43m=\u001b[39;49m\u001b[43mresult\u001b[49m\u001b[43m,\u001b[49m\n\u001b[1;32m      3\u001b[0m \u001b[43m    \u001b[49m\u001b[43mtest_train_pair_indices\u001b[49m\u001b[38;5;241;43m=\u001b[39;49m\u001b[43mtest_train_pair_indices\u001b[49m\u001b[43m,\u001b[49m\n\u001b[1;32m      4\u001b[0m \u001b[43m    \u001b[49m\u001b[43morig_test_train_pair_indices\u001b[49m\u001b[38;5;241;43m=\u001b[39;49m\u001b[43morig_test_train_pair_indices\u001b[49m\u001b[43m)\u001b[49m\n",
      "Cell \u001b[0;32mIn[32], line 69\u001b[0m, in \u001b[0;36msave_sets\u001b[0;34m(patch_dicts, best_indices, test_train_pair_indices, orig_test_train_pair_indices)\u001b[0m\n\u001b[1;32m     66\u001b[0m         json\u001b[38;5;241m.\u001b[39mdump(train_label, f, indent\u001b[38;5;241m=\u001b[39m\u001b[38;5;241m4\u001b[39m)\n\u001b[1;32m     68\u001b[0m \u001b[38;5;66;03m# Save images\u001b[39;00m\n\u001b[0;32m---> 69\u001b[0m img \u001b[38;5;241m=\u001b[39m \u001b[43mread_img\u001b[49m\u001b[43m(\u001b[49m\u001b[43mimg_path\u001b[49m\u001b[38;5;241;43m=\u001b[39;49m\u001b[38;5;28;43mstr\u001b[39;49m\u001b[43m(\u001b[49m\u001b[43mimg_folder\u001b[49m\u001b[38;5;241;43m/\u001b[39;49m\u001b[38;5;124;43mf\u001b[39;49m\u001b[38;5;124;43m\"\u001b[39;49m\u001b[38;5;132;43;01m{\u001b[39;49;00m\u001b[43mfile_name\u001b[49m\u001b[38;5;132;43;01m}\u001b[39;49;00m\u001b[38;5;124;43m.\u001b[39;49m\u001b[38;5;132;43;01m{\u001b[39;49;00m\u001b[43msave_img_ext\u001b[49m\u001b[38;5;132;43;01m}\u001b[39;49;00m\u001b[38;5;124;43m\"\u001b[39;49m\u001b[43m)\u001b[49m\u001b[43m,\u001b[49m\u001b[43m \u001b[49m\u001b[43mmodule\u001b[49m\u001b[38;5;241;43m=\u001b[39;49m\u001b[43mimg_read_module\u001b[49m\u001b[43m)\u001b[49m\n\u001b[1;32m     70\u001b[0m test_img \u001b[38;5;241m=\u001b[39m img[y_0:y_0\u001b[38;5;241m+\u001b[39mtest_img_sz, x_0:x_0\u001b[38;5;241m+\u001b[39mtest_img_sz, :]\n\u001b[1;32m     71\u001b[0m train_mask \u001b[38;5;241m=\u001b[39m np\u001b[38;5;241m.\u001b[39mones_like(img, dtype\u001b[38;5;241m=\u001b[39mnp\u001b[38;5;241m.\u001b[39muint8)\n",
      "File \u001b[0;32m~/Projects/satellitepy/satellitepy/data/utils.py:94\u001b[0m, in \u001b[0;36mread_img\u001b[0;34m(img_path, module, rescaling, interpolation_method)\u001b[0m\n\u001b[1;32m     92\u001b[0m     img \u001b[38;5;241m=\u001b[39m cv2\u001b[38;5;241m.\u001b[39mimread(img_path)\n\u001b[1;32m     93\u001b[0m \u001b[38;5;28;01melif\u001b[39;00m module \u001b[38;5;241m==\u001b[39m \u001b[38;5;124m'\u001b[39m\u001b[38;5;124mrasterio\u001b[39m\u001b[38;5;124m'\u001b[39m:\n\u001b[0;32m---> 94\u001b[0m     \u001b[38;5;28;01mwith\u001b[39;00m \u001b[43mrasterio\u001b[49m\u001b[38;5;241;43m.\u001b[39;49m\u001b[43mopen\u001b[49m\u001b[43m(\u001b[49m\u001b[43mimg_path\u001b[49m\u001b[43m)\u001b[49m \u001b[38;5;28;01mas\u001b[39;00m src:\n\u001b[1;32m     95\u001b[0m         img_array \u001b[38;5;241m=\u001b[39m src\u001b[38;5;241m.\u001b[39mread()\n\u001b[1;32m     96\u001b[0m         img \u001b[38;5;241m=\u001b[39m np\u001b[38;5;241m.\u001b[39mtranspose(img_array, axes\u001b[38;5;241m=\u001b[39m(\u001b[38;5;241m1\u001b[39m, \u001b[38;5;241m2\u001b[39m, \u001b[38;5;241m0\u001b[39m))\n",
      "File \u001b[0;32m~/Projects/satellitepy/venv_satellitepy/lib/python3.10/site-packages/rasterio/env.py:451\u001b[0m, in \u001b[0;36mensure_env_with_credentials.<locals>.wrapper\u001b[0;34m(*args, **kwds)\u001b[0m\n\u001b[1;32m    448\u001b[0m     session \u001b[38;5;241m=\u001b[39m DummySession()\n\u001b[1;32m    450\u001b[0m \u001b[38;5;28;01mwith\u001b[39;00m env_ctor(session\u001b[38;5;241m=\u001b[39msession):\n\u001b[0;32m--> 451\u001b[0m     \u001b[38;5;28;01mreturn\u001b[39;00m \u001b[43mf\u001b[49m\u001b[43m(\u001b[49m\u001b[38;5;241;43m*\u001b[39;49m\u001b[43margs\u001b[49m\u001b[43m,\u001b[49m\u001b[43m \u001b[49m\u001b[38;5;241;43m*\u001b[39;49m\u001b[38;5;241;43m*\u001b[39;49m\u001b[43mkwds\u001b[49m\u001b[43m)\u001b[49m\n",
      "File \u001b[0;32m~/Projects/satellitepy/venv_satellitepy/lib/python3.10/site-packages/rasterio/__init__.py:304\u001b[0m, in \u001b[0;36mopen\u001b[0;34m(fp, mode, driver, width, height, count, crs, transform, dtype, nodata, sharing, **kwargs)\u001b[0m\n\u001b[1;32m    301\u001b[0m path \u001b[38;5;241m=\u001b[39m _parse_path(raw_dataset_path)\n\u001b[1;32m    303\u001b[0m \u001b[38;5;28;01mif\u001b[39;00m mode \u001b[38;5;241m==\u001b[39m \u001b[38;5;124m\"\u001b[39m\u001b[38;5;124mr\u001b[39m\u001b[38;5;124m\"\u001b[39m:\n\u001b[0;32m--> 304\u001b[0m     dataset \u001b[38;5;241m=\u001b[39m \u001b[43mDatasetReader\u001b[49m\u001b[43m(\u001b[49m\u001b[43mpath\u001b[49m\u001b[43m,\u001b[49m\u001b[43m \u001b[49m\u001b[43mdriver\u001b[49m\u001b[38;5;241;43m=\u001b[39;49m\u001b[43mdriver\u001b[49m\u001b[43m,\u001b[49m\u001b[43m \u001b[49m\u001b[43msharing\u001b[49m\u001b[38;5;241;43m=\u001b[39;49m\u001b[43msharing\u001b[49m\u001b[43m,\u001b[49m\u001b[43m \u001b[49m\u001b[38;5;241;43m*\u001b[39;49m\u001b[38;5;241;43m*\u001b[39;49m\u001b[43mkwargs\u001b[49m\u001b[43m)\u001b[49m\n\u001b[1;32m    305\u001b[0m \u001b[38;5;28;01melif\u001b[39;00m mode \u001b[38;5;241m==\u001b[39m \u001b[38;5;124m\"\u001b[39m\u001b[38;5;124mr+\u001b[39m\u001b[38;5;124m\"\u001b[39m:\n\u001b[1;32m    306\u001b[0m     dataset \u001b[38;5;241m=\u001b[39m get_writer_for_path(path, driver\u001b[38;5;241m=\u001b[39mdriver)(\n\u001b[1;32m    307\u001b[0m         path, mode, driver\u001b[38;5;241m=\u001b[39mdriver, sharing\u001b[38;5;241m=\u001b[39msharing, \u001b[38;5;241m*\u001b[39m\u001b[38;5;241m*\u001b[39mkwargs\n\u001b[1;32m    308\u001b[0m     )\n",
      "File \u001b[0;32mrasterio/_base.pyx:312\u001b[0m, in \u001b[0;36mrasterio._base.DatasetBase.__init__\u001b[0;34m()\u001b[0m\n",
      "\u001b[0;31mRasterioIOError\u001b[0m: /mnt/2tb-1/satellitepy/data/FR24_dataset/images/Amsterdam_23MAR14104929..png: No such file or directory"
     ]
    }
   ],
   "source": [
    "save_sets(patch_dicts=patch_dicts,\n",
    "    best_indices=result,\n",
    "    test_train_pair_indices=test_train_pair_indices,\n",
    "    orig_test_train_pair_indices=orig_test_train_pair_indices)"
   ]
  },
  {
   "cell_type": "code",
   "execution_count": 4,
   "metadata": {},
   "outputs": [
    {
     "name": "stderr",
     "output_type": "stream",
     "text": [
      "  0%|          | 0/41 [00:00<?, ?it/s]"
     ]
    },
    {
     "name": "stderr",
     "output_type": "stream",
     "text": [
      "  2%|▏         | 1/41 [03:48<2:32:14, 228.36s/it]\n"
     ]
    },
    {
     "ename": "KeyboardInterrupt",
     "evalue": "",
     "output_type": "error",
     "traceback": [
      "\u001b[0;31m---------------------------------------------------------------------------\u001b[0m",
      "\u001b[0;31mKeyboardInterrupt\u001b[0m                         Traceback (most recent call last)",
      "Cell \u001b[0;32mIn[4], line 1\u001b[0m\n\u001b[0;32m----> 1\u001b[0m \u001b[43mshow_labels_on_images\u001b[49m\u001b[43m(\u001b[49m\u001b[43mimage_folder\u001b[49m\u001b[38;5;241;43m=\u001b[39;49m\u001b[43mtest_img_folder\u001b[49m\u001b[43m,\u001b[49m\n\u001b[1;32m      2\u001b[0m \u001b[43m        \u001b[49m\u001b[43mlabel_folder\u001b[49m\u001b[38;5;241;43m=\u001b[39;49m\u001b[43mtest_label_folder\u001b[49m\u001b[43m,\u001b[49m\n\u001b[1;32m      3\u001b[0m \u001b[43m        \u001b[49m\u001b[43mmask_folder\u001b[49m\u001b[38;5;241;43m=\u001b[39;49m\u001b[38;5;28;43;01mNone\u001b[39;49;00m\u001b[43m,\u001b[49m\n\u001b[1;32m      4\u001b[0m \u001b[43m        \u001b[49m\u001b[43mlabel_format\u001b[49m\u001b[38;5;241;43m=\u001b[39;49m\u001b[38;5;124;43m'\u001b[39;49m\u001b[38;5;124;43msatellitepy\u001b[39;49m\u001b[38;5;124;43m'\u001b[39;49m\u001b[43m,\u001b[49m\n\u001b[1;32m      5\u001b[0m \u001b[43m        \u001b[49m\u001b[43mimg_read_module\u001b[49m\u001b[38;5;241;43m=\u001b[39;49m\u001b[38;5;124;43m'\u001b[39;49m\u001b[38;5;124;43mcv2\u001b[39;49m\u001b[38;5;124;43m'\u001b[39;49m\u001b[43m,\u001b[49m\n\u001b[1;32m      6\u001b[0m \u001b[43m        \u001b[49m\u001b[43mout_folder\u001b[49m\u001b[38;5;241;43m=\u001b[39;49m\u001b[43mPath\u001b[49m\u001b[43m(\u001b[49m\u001b[38;5;124;43m'\u001b[39;49m\u001b[38;5;124;43m/home/murat/Projects/satellitepy/docs/temp_fineair_set\u001b[39;49m\u001b[38;5;124;43m'\u001b[39;49m\u001b[43m)\u001b[49m\u001b[43m,\u001b[49m\n\u001b[1;32m      7\u001b[0m \u001b[43m        \u001b[49m\u001b[43mtasks\u001b[49m\u001b[38;5;241;43m=\u001b[39;49m\u001b[43m[\u001b[49m\u001b[38;5;124;43m'\u001b[39;49m\u001b[38;5;124;43mcoarse-class\u001b[39;49m\u001b[38;5;124;43m'\u001b[39;49m\u001b[43m,\u001b[49m\u001b[38;5;124;43m'\u001b[39;49m\u001b[38;5;124;43mobboxes\u001b[39;49m\u001b[38;5;124;43m'\u001b[39;49m\u001b[43m]\u001b[49m\u001b[43m,\u001b[49m\n\u001b[1;32m      8\u001b[0m \u001b[43m        \u001b[49m\u001b[43mrescaling\u001b[49m\u001b[38;5;241;43m=\u001b[39;49m\u001b[38;5;241;43m1.0\u001b[39;49m\u001b[43m,\u001b[49m\n\u001b[1;32m      9\u001b[0m \u001b[43m        \u001b[49m\u001b[43minterpolation_method\u001b[49m\u001b[38;5;241;43m=\u001b[39;49m\u001b[38;5;28;43;01mNone\u001b[39;49;00m\u001b[43m)\u001b[49m\n",
      "File \u001b[0;32m~/Projects/satellitepy/satellitepy/data/tools.py:572\u001b[0m, in \u001b[0;36mshow_labels_on_images\u001b[0;34m(image_folder, label_folder, mask_folder, label_format, img_read_module, out_folder, tasks, rescaling, interpolation_method)\u001b[0m\n\u001b[1;32m    569\u001b[0m     cv2\u001b[38;5;241m.\u001b[39mdrawContours(img, contours, \u001b[38;5;241m-\u001b[39m\u001b[38;5;241m1\u001b[39m, (\u001b[38;5;241m0\u001b[39m, \u001b[38;5;241m0\u001b[39m, \u001b[38;5;241m255\u001b[39m), \u001b[38;5;241m1\u001b[39m)\n\u001b[1;32m    571\u001b[0m out_img_path \u001b[38;5;241m=\u001b[39m out_image_folder \u001b[38;5;241m/\u001b[39m \u001b[38;5;124mf\u001b[39m\u001b[38;5;124m'\u001b[39m\u001b[38;5;132;01m{\u001b[39;00mimg_path\u001b[38;5;241m.\u001b[39mstem\u001b[38;5;132;01m}\u001b[39;00m\u001b[38;5;124m.png\u001b[39m\u001b[38;5;124m'\u001b[39m\n\u001b[0;32m--> 572\u001b[0m \u001b[43mcv2\u001b[49m\u001b[38;5;241;43m.\u001b[39;49m\u001b[43mimwrite\u001b[49m\u001b[43m(\u001b[49m\u001b[38;5;28;43mstr\u001b[39;49m\u001b[43m(\u001b[49m\u001b[43mout_img_path\u001b[49m\u001b[43m)\u001b[49m\u001b[43m,\u001b[49m\u001b[43m \u001b[49m\u001b[43mimg\u001b[49m\u001b[43m)\u001b[49m\n",
      "\u001b[0;31mKeyboardInterrupt\u001b[0m: "
     ]
    }
   ],
   "source": [
    "show_labels_on_images(image_folder=test_img_folder,\n",
    "        label_folder=test_label_folder,\n",
    "        mask_folder=None,\n",
    "        label_format='satellitepy',\n",
    "        img_read_module='cv2',\n",
    "        out_folder=Path('/home/murat/Projects/satellitepy/docs/temp_fineair_set'),\n",
    "        tasks=['coarse-class','obboxes'],\n",
    "        rescaling=1.0,\n",
    "        interpolation_method=None)"
   ]
  },
  {
   "cell_type": "code",
   "execution_count": null,
   "metadata": {},
   "outputs": [],
   "source": []
  }
 ],
 "metadata": {
  "kernelspec": {
   "display_name": "venv_satellitepy",
   "language": "python",
   "name": "python3"
  },
  "language_info": {
   "codemirror_mode": {
    "name": "ipython",
    "version": 3
   },
   "file_extension": ".py",
   "mimetype": "text/x-python",
   "name": "python",
   "nbconvert_exporter": "python",
   "pygments_lexer": "ipython3",
   "version": "3.10.12"
  }
 },
 "nbformat": 4,
 "nbformat_minor": 2
}
