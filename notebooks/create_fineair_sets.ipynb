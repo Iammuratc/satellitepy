{
 "cells": [
  {
   "cell_type": "code",
   "execution_count": 67,
   "metadata": {},
   "outputs": [
    {
     "name": "stdout",
     "output_type": "stream",
     "text": [
      "The autoreload extension is already loaded. To reload it, use:\n",
      "  %reload_ext autoreload\n"
     ]
    }
   ],
   "source": [
    "%load_ext autoreload\n",
    "%autoreload 2"
   ]
  },
  {
   "cell_type": "markdown",
   "metadata": {},
   "source": [
    "# Get the sets"
   ]
  },
  {
   "cell_type": "code",
   "execution_count": 68,
   "metadata": {},
   "outputs": [],
   "source": [
    "from satellitepy.data.labels import read_label, init_satellitepy_label, set_image_keys, get_all_satellitepy_keys\n",
    "from satellitepy.utils.path_utils import get_file_paths\n",
    "from satellitepy.data.utils import get_satellitepy_dict_values, count_unique_values, get_satellitepy_table, read_img, set_satellitepy_dict_values\n",
    "from satellitepy.data.bbox import BBox\n",
    "from satellitepy.data.patch import is_truncated, shift_bboxes, create_patch_polygon, get_intersection\n",
    "from satellitepy.data.tools import show_labels_on_images\n",
    "\n",
    "import os\n",
    "os.environ[\"OPENCV_IO_MAX_IMAGE_PIXELS\"] = str(pow(2,60))\n",
    "import cv2\n",
    "import random\n",
    "import numpy as np\n",
    "import itertools\n",
    "import sys\n",
    "from pathlib import Path\n",
    "from tqdm.notebook import tqdm\n",
    "import matplotlib.pyplot as plt\n",
    "import json"
   ]
  },
  {
   "cell_type": "code",
   "execution_count": 38,
   "metadata": {},
   "outputs": [],
   "source": [
    "# img_folder = Path(\"/mnt/2tb-1/satellitepy/data/FR24_dataset/images/\")\n",
    "# label_folder = Path(\"/mnt/2tb-1/satellitepy/data/FR24_dataset/labels_fineair/role_th_50/\")\n",
    "# label_format = 'fineair' # \n",
    "# test_img_sz = 8000\n",
    "# intersection_th = 0.95\n",
    "# test_sum_ratio_th = 0.15\n",
    "\n",
    "# train_label_folder = Path(\"/mnt/2tb-1/satellitepy/data/FR24_sets/train/labels_fineair\")\n",
    "# train_img_folder = Path(\"/mnt/2tb-1/satellitepy/data/FR24_sets/train/images\")\n",
    "# test_label_folder = Path(\"/mnt/2tb-1/satellitepy/data/FR24_sets/test/labels_fineair\")\n",
    "# test_img_folder = Path(\"/mnt/2tb-1/satellitepy/data/FR24_sets/test/images\")\n",
    "\n"
   ]
  },
  {
   "cell_type": "code",
   "execution_count": 39,
   "metadata": {},
   "outputs": [],
   "source": [
    "img_folder = Path(\"/mnt/2tb-1/satellitepy/data/FR24_sets/train/images\")\n",
    "label_folder = Path(\"/mnt/2tb-1/satellitepy/data/FR24_sets/train/labels_fineair\")\n",
    "label_format = 'satellitepy' # \n",
    "test_img_sz = 6000\n",
    "intersection_th = 0.9\n",
    "test_sum_ratio_th = 0.15\n",
    "bbox_for_intersection = 'obboxes'\n",
    "img_read_module = 'cv2'\n",
    "img_extension = 'png' if img_read_module == 'cv2' else 'tif'\n",
    "train_label_folder = Path(\"/mnt/2tb-1/satellitepy/data/FR24_sets/only_train/labels\")\n",
    "train_img_folder = Path(\"/mnt/2tb-1/satellitepy/data/FR24_sets/only_train/images\")\n",
    "test_label_folder = Path(\"/mnt/2tb-1/satellitepy/data/FR24_sets/val/labels\")\n",
    "test_img_folder = Path(\"/mnt/2tb-1/satellitepy/data/FR24_sets/val/images\")\n",
    "\n"
   ]
  },
  {
   "cell_type": "markdown",
   "metadata": {},
   "source": [
    "## Get patch labels"
   ]
  },
  {
   "cell_type": "code",
   "execution_count": 40,
   "metadata": {},
   "outputs": [],
   "source": [
    "def get_patch_dict(label, test_img_size, margin=100, intersection_th=0.95):\n",
    "\n",
    "    satellitepy_fac = get_satellitepy_table()['fineair-class']\n",
    "    \n",
    "    # Define patch starting coords\n",
    "    patch_start_coords = []\n",
    "    for i, bbox_corners in enumerate(label[bbox_for_intersection]):\n",
    "        bbox = BBox(corners=bbox_corners)\n",
    "        x_min, x_max, y_min, y_max = bbox.get_bbox_limits(bbox.corners)\n",
    "        x_0, y_0 = np.maximum(x_min - margin,0), np.maximum(y_min - margin,0)\n",
    "        patch_start_coords.append([x_0,y_0])\n",
    "\n",
    "    # Set patch \n",
    "    patch_dict = {\n",
    "        'test_indices': [[] for _ in range(len(patch_start_coords))],\n",
    "        'train_indices':[[] for _ in range(len(patch_start_coords))],\n",
    "        'test_fac':[[] for _ in range(len(patch_start_coords))],\n",
    "        'test_fac_count':[[0 for fac_i in range(len(set(satellitepy_fac.values())))] for _ in range(len(patch_start_coords))],\n",
    "        'train_fac':[[] for _ in range(len(patch_start_coords))],\n",
    "        'train_fac_count':[[0 for fac_i in range(len(set(satellitepy_fac.values())))] for _ in range(len(patch_start_coords))],\n",
    "        'start_coords': patch_start_coords,\n",
    "        }\n",
    "    for i, patch_start_coord in enumerate(patch_start_coords):\n",
    "        x_0, y_0 = patch_start_coord\n",
    "        patch_polygon = create_patch_polygon(x_0=x_0, y_0=y_0, patch_size=test_img_size)\n",
    "        fineair_classes = get_satellitepy_dict_values(label,task='fineair-class')\n",
    "        for j, bbox_corners in enumerate(label[bbox_for_intersection]):\n",
    "            intersection = get_intersection(bbox_corners=bbox_corners, patch_polygon=patch_polygon)\n",
    "            # is_truncated_bbox = is_truncated(bbox_corners=bbox_corners, patch_polygon=patch_polygon, relative_area_threshold=relative_area_thr)\n",
    "            ## Set the labels to empty because of cutoff objects\n",
    "            if intersection == 0:\n",
    "                continue\n",
    "            if intersection > 0 and intersection_th > intersection:\n",
    "                # patch_dict['labels'][i] = []\n",
    "                patch_dict['test_indices'][i] = []\n",
    "                patch_dict['test_fac'][i] = []\n",
    "                break\n",
    "            else:\n",
    "                # patch_dict['labels'][i] = set_image_keys(get_all_satellitepy_keys(), patch_dict['labels'][i], label, j)\n",
    "                patch_dict['test_indices'][i].append(j)\n",
    "                patch_dict['test_fac'][i].append(fineair_classes[j])\n",
    "        patch_dict['train_indices'][i] = list(set(range(len(label[bbox_for_intersection])))-set(patch_dict['test_indices'][i]))\n",
    "        patch_dict['train_fac'][i] = [fineair_classes[j] for j in patch_dict['train_indices'][i]]\n",
    "\n",
    "        # Set train fac count and test fac count\n",
    "        for fac in patch_dict['train_fac'][i]:\n",
    "            fac_i = satellitepy_fac[fac]\n",
    "            patch_dict['train_fac_count'][i][fac_i] += 1 \n",
    "        for fac in patch_dict['test_fac'][i]:\n",
    "            fac_i = satellitepy_fac[fac]\n",
    "            patch_dict['test_fac_count'][i][fac_i] += 1\n",
    "    return patch_dict\n",
    "        "
   ]
  },
  {
   "cell_type": "code",
   "execution_count": 41,
   "metadata": {},
   "outputs": [],
   "source": [
    "label_paths = get_file_paths(label_folder)\n",
    "\n",
    "\n",
    "patch_dicts = {}\n",
    "\n",
    "for label_path in label_paths:\n",
    "    label = read_label(label_path=label_path,label_format=label_format)\n",
    "    patch_dict = get_patch_dict(label=label,test_img_size=test_img_sz, intersection_th=intersection_th)\n",
    "    label_file_name = label_path.name\n",
    "    patch_dicts[label_file_name] = patch_dict\n",
    "\n"
   ]
  },
  {
   "cell_type": "markdown",
   "metadata": {},
   "source": [
    "## Get one patch from each original image for the test set"
   ]
  },
  {
   "cell_type": "code",
   "execution_count": 42,
   "metadata": {},
   "outputs": [],
   "source": [
    "def unique_lists_with_indices(list_of_lists):\n",
    "    unique_dict = {}\n",
    "    \n",
    "    for idx, sublist in enumerate(list_of_lists):\n",
    "        # Convert the list to a tuple so it can be used as a dictionary key\n",
    "        tuple_sublist = tuple(sublist)\n",
    "        \n",
    "        # Store the sublist and its first occurrence index if it's unique\n",
    "        if tuple_sublist not in unique_dict:\n",
    "            unique_dict[tuple_sublist] = idx\n",
    "    \n",
    "    # Extract unique lists and their indices\n",
    "    unique_lists = [list(key) for key in unique_dict.keys()]\n",
    "    unique_indices = list(unique_dict.values())\n",
    "    \n",
    "    return unique_lists, unique_indices\n",
    "\n",
    "# Test case\n",
    "# input_list = [[1, 1], [2, 2], [1, 1]]\n",
    "# unique_lists, unique_indices = unique_lists_with_indices(input_list)\n",
    "# print(\"Unique Lists:\", unique_lists)\n",
    "# print(\"Indices of First Occurrences:\", unique_indices)"
   ]
  },
  {
   "cell_type": "code",
   "execution_count": 43,
   "metadata": {},
   "outputs": [],
   "source": [
    "def compute_test_train_pairs(patch_dicts):\n",
    "    \n",
    "    orig_test_train_pair_indices = []\n",
    "    all_test_train_pairs = []\n",
    "    all_test_train_pair_indices = []\n",
    "    # Iterate through each dictionary in B\n",
    "    for img_name, patch_dict in patch_dicts.items():\n",
    "        test_indices, unique_patch_indices = unique_lists_with_indices(patch_dict['test_indices'])\n",
    "        ## Remove empty list from test indices\n",
    "        if len(unique_patch_indices) == 0:\n",
    "            print(img_name)\n",
    "        else:\n",
    "            for i, test_ind in enumerate(test_indices.copy()):\n",
    "                if test_ind == []:\n",
    "                    test_indices.pop(i)\n",
    "                    unique_patch_indices.pop(i)\n",
    "        train_indices = [ind for i, ind in enumerate(patch_dict['train_indices']) if i in unique_patch_indices]\n",
    "        if img_name == 'O_Hare_Int_Airport_23FEB28165710.json':\n",
    "            print(patch_dict['train_indices'])\n",
    "        # train_fac = [fac for i, fac in enumerate(patch_dict['train_fac']) if i in unique_patch_indices]\n",
    "        # test_fac = [fac for i, fac in enumerate(patch_dict['test_fac']) if i in unique_patch_indices]\n",
    "        test_fac_count = [fac for i, fac in enumerate(patch_dict['test_fac_count']) if i in unique_patch_indices]\n",
    "        train_fac_count = [fac for i, fac in enumerate(patch_dict['train_fac_count']) if i in unique_patch_indices]\n",
    "        test_train_pairs = list(zip(test_fac_count, train_fac_count))\n",
    "        test_train_pair_indices = list(zip(test_indices, train_indices))\n",
    "        all_test_train_pairs.append(test_train_pairs)\n",
    "        all_test_train_pair_indices.append(test_train_pair_indices)\n",
    "        orig_test_train_pair_indices.append(unique_patch_indices)\n",
    "    return all_test_train_pairs, all_test_train_pair_indices, orig_test_train_pair_indices\n"
   ]
  },
  {
   "cell_type": "code",
   "execution_count": 44,
   "metadata": {},
   "outputs": [],
   "source": [
    "test_train_pairs, test_train_pair_indices, orig_test_train_pair_indices = compute_test_train_pairs(patch_dicts)\n",
    "# print(test_train_pair_indices[0][17])\n",
    "# print(orig_test_train_pair_indices)\n",
    "# print(list(patch_dicts.values())[0]['test_indices'][17])\n",
    "# print(list(patch_dicts.values())[0]['train_indices'])\n",
    "\n",
    "for i, s in enumerate(test_train_pairs):\n",
    "    if len(s) <= 0:\n",
    "        print(s)\n",
    "        print(len(s),i)\n",
    "        print(list(patch_dicts.keys())[i])\n",
    "        print(list(patch_dicts.values())[i])\n"
   ]
  },
  {
   "cell_type": "markdown",
   "metadata": {},
   "source": [
    "## Cartesian options"
   ]
  },
  {
   "cell_type": "code",
   "execution_count": 45,
   "metadata": {},
   "outputs": [],
   "source": [
    "# Calculate the number of elements in each set\n",
    "# lengths = [len(s) for s in test_train_pairs]\n",
    "\n",
    "def cartesian_with_indices(all_test_train_pairs):\n",
    "    # Calculate the product of all test-train pairs across dictionaries in B\n",
    "    for combination in itertools.product(*all_test_train_pairs):\n",
    "         # Find indices of elements in their respective sets\n",
    "        indices = [s.index(elem) for s, elem in zip(all_test_train_pairs, combination)]\n",
    "        yield combination, indices\n",
    "\n",
    "def random_cartesian_with_indices(sets, num_samples):\n",
    "    for _ in range(num_samples):\n",
    "        # Randomly choose an index for each set\n",
    "        indices = [random.randint(0, len(s) - 1) for s in sets]\n",
    "        # Get the elements at the chosen indices\n",
    "        sample = [sets[i][index] for i, index in enumerate(indices)]\n",
    "        yield sample, indices"
   ]
  },
  {
   "cell_type": "code",
   "execution_count": 46,
   "metadata": {},
   "outputs": [],
   "source": [
    "\n",
    "def get_cartesian_test_train_pairs(sets, test_sum_ratio_th):\n",
    "    best_indices = [0]*len(sets)\n",
    "    best_sum_ratio_dif = np.inf\n",
    "    best_test_to_all_ratio = np.Inf\n",
    "    # for combination, indices in cartesian_with_indices(sets):\n",
    "    for combination, indices in random_cartesian_with_indices(test_train_pairs, 100000):\n",
    "\n",
    "        test_sum = np.sum(np.array(combination)[:,0],axis=0)\n",
    "        train_sum = np.sum(np.array(combination)[:,1],axis=0)\n",
    "        total_sum = np.sum(a=[test_sum,train_sum],axis=1)\n",
    "\n",
    "        test_sum_ratio = test_sum / total_sum[0]\n",
    "        train_sum_ratio = train_sum / total_sum[1]\n",
    "        test_to_all_ratio = total_sum[0]/np.sum(total_sum)\n",
    "        sum_ratio_dif = np.sum(np.abs(test_sum_ratio-train_sum_ratio)) # train and test set ratio difference\n",
    "\n",
    "        if (best_test_to_all_ratio+0.001 >= np.abs(test_to_all_ratio-test_sum_ratio_th)) and (sum_ratio_dif <= best_sum_ratio_dif):\n",
    "            print('# Test instances: ', test_sum)\n",
    "            print('# Train instances: ',train_sum)\n",
    "            print('# Total instances (ratio): ', total_sum, test_to_all_ratio)\n",
    "            print('Absolute sum diff: ', sum_ratio_dif)\n",
    "            print(indices)\n",
    "            best_sum_ratio_dif = sum_ratio_dif\n",
    "            best_test_to_all_ratio = np.abs(test_to_all_ratio-test_sum_ratio_th)\n",
    "            best_indices = indices\n",
    "    return best_indices"
   ]
  },
  {
   "cell_type": "code",
   "execution_count": 47,
   "metadata": {},
   "outputs": [
    {
     "name": "stdout",
     "output_type": "stream",
     "text": [
      "# Test instances:  [ 11   4  40  42  17   0  19   0  42 101   3  10  19  29   5   5   3   6   6   1   0  37   6]\n",
      "# Train instances:  [ 53 162 487 377 157   0  94   0 663 616  44  37 102 209 120  39  33  75  36  81   0 633 184]\n",
      "# Total instances (ratio):  [ 406 4202] 0.0881076388888889\n",
      "Absolute sum diff:  0.45720428695694987\n",
      "[8, 2, 8, 4, 2, 12, 4, 11, 0, 5, 15, 12, 22, 11, 10, 11, 6, 27, 8, 3, 12, 14, 2, 16, 10, 2, 10, 9, 6, 5, 19, 12, 26, 3, 5, 12, 14, 11, 10, 6]\n",
      "# Test instances:  [ 10  25  61  42  17   0  13   0  77 121   2   4  15  32   6   0   7   6  13  18   0  65  60]\n",
      "# Train instances:  [ 54 141 466 377 157   0 100   0 628 596  45  43 106 206 119  44  29  75  29  64   0 605 130]\n",
      "# Total instances (ratio):  [ 594 4014] 0.12890625\n",
      "Absolute sum diff:  0.34064108952001326\n",
      "[18, 0, 3, 11, 7, 10, 26, 2, 5, 11, 5, 8, 7, 32, 14, 0, 2, 18, 2, 11, 11, 0, 13, 9, 11, 4, 11, 7, 18, 5, 13, 2, 16, 3, 2, 7, 6, 3, 2, 0]\n",
      "# Test instances:  [ 20   4  64  33  22   0  19   0  82  98   1   7  11  34   5  10   2   8   0   7   0 125  38]\n",
      "# Train instances:  [ 44 162 463 386 152   0  94   0 623 619  46  40 110 204 120  34  34  73  42  75   0 545 152]\n",
      "# Total instances (ratio):  [ 590 4018] 0.12803819444444445\n",
      "Absolute sum diff:  0.327710050535303\n",
      "[9, 3, 12, 12, 7, 6, 17, 11, 1, 7, 19, 13, 24, 11, 17, 11, 0, 7, 4, 18, 15, 10, 1, 19, 2, 0, 10, 7, 11, 13, 17, 0, 20, 1, 2, 1, 14, 12, 9, 8]\n",
      "# Test instances:  [13 15 63 40 18  0 15  0 76 88  0  4 16 24  9  4  7 11 28 15  0 75 67]\n",
      "# Train instances:  [ 51 151 464 379 156   0  98   0 629 629  47  43 105 214 116  40  29  70  14  67   0 595 123]\n",
      "# Total instances (ratio):  [ 588 4020] 0.12760416666666666\n",
      "Absolute sum diff:  0.30791958574474565\n",
      "[8, 12, 6, 2, 6, 8, 19, 10, 14, 5, 17, 4, 4, 20, 19, 4, 5, 15, 6, 8, 5, 15, 13, 0, 1, 0, 1, 12, 9, 16, 17, 1, 6, 3, 4, 3, 5, 8, 7, 0]\n",
      "# Test instances:  [ 17  22  77  61  22   0  16   0  67 114   1  11  10  20   7  10  13   8   0  26   0 104  25]\n",
      "# Train instances:  [ 47 144 450 358 152   0  97   0 638 603  46  36 111 218 118  34  23  73  42  56   0 566 165]\n",
      "# Total instances (ratio):  [ 631 3977] 0.1369357638888889\n",
      "Absolute sum diff:  0.28157388342717055\n",
      "[17, 12, 8, 14, 9, 9, 20, 0, 14, 5, 5, 1, 14, 19, 14, 1, 6, 11, 5, 13, 10, 6, 11, 4, 8, 0, 10, 11, 9, 2, 6, 9, 11, 1, 2, 4, 7, 13, 7, 9]\n",
      "# Test instances:  [ 10  31  86  83  18   0  13   0 132 106   1   6  15  35  23   4   4  10   0  16   0  61  20]\n",
      "# Train instances:  [ 54 135 441 336 156   0 100   0 573 611  46  41 106 203 102  40  32  71  42  66   0 609 170]\n",
      "# Total instances (ratio):  [ 674 3934] 0.1462673611111111\n",
      "Absolute sum diff:  0.2673142458880127\n",
      "[6, 12, 1, 5, 14, 9, 19, 1, 2, 0, 17, 17, 0, 26, 13, 8, 1, 2, 9, 20, 17, 11, 2, 12, 3, 2, 2, 0, 1, 11, 7, 13, 21, 4, 10, 11, 11, 13, 11, 15]\n",
      "# Test instances:  [  8  23  86  81  24   0  19   0  95 123   6  13  14  45  17   0   5  13   6  21   0  70  26]\n",
      "# Train instances:  [ 56 143 441 338 150   0  94   0 610 594  41  34 107 193 108  44  31  68  36  61   0 600 164]\n",
      "# Total instances (ratio):  [ 695 3913] 0.1508246527777778\n",
      "Absolute sum diff:  0.22219092602227952\n",
      "[18, 4, 9, 7, 8, 3, 16, 4, 5, 3, 5, 1, 10, 24, 18, 12, 4, 24, 9, 16, 2, 3, 4, 17, 1, 4, 9, 5, 6, 15, 0, 19, 0, 7, 1, 14, 13, 11, 3, 7]\n",
      "# Test instances:  [ 12  26  81  66  22   0   9   0 103 137   4  14  16  28  13   5   2  13  15  16   0  80  26]\n",
      "# Train instances:  [ 52 140 446 353 152   0 104   0 602 580  43  33 105 210 112  39  34  68  27  66   0 590 164]\n",
      "# Total instances (ratio):  [ 688 3920] 0.14930555555555555\n",
      "Absolute sum diff:  0.204140958709065\n",
      "[11, 0, 20, 5, 5, 1, 0, 8, 11, 7, 16, 10, 0, 6, 3, 0, 5, 24, 1, 0, 16, 0, 2, 15, 3, 4, 10, 14, 8, 9, 14, 6, 18, 13, 7, 12, 4, 0, 6, 2]\n",
      "# Test instances:  [ 17  15  79  70  24   0  16   0  91 113   3  14  21  46  13   1   2  12  13  13   0  96  28]\n",
      "# Train instances:  [ 47 151 448 349 150   0  97   0 614 604  44  33 100 192 112  43  34  69  29  69   0 574 162]\n",
      "# Total instances (ratio):  [ 687 3921] 0.14908854166666666\n",
      "Absolute sum diff:  0.16937796591859533\n",
      "[14, 5, 1, 6, 5, 3, 18, 13, 10, 10, 17, 9, 25, 22, 8, 12, 5, 13, 9, 6, 22, 15, 3, 13, 0, 5, 0, 1, 16, 6, 3, 5, 23, 1, 6, 3, 1, 5, 7, 14]\n",
      "# Test instances:  [  8  24  83  68  25   0  18   0  95 117   5  13  13  39  11   9   2   5   3  11   0 103  33]\n",
      "# Train instances:  [ 56 142 444 351 149   0  95   0 610 600  42  34 108 199 114  35  34  76  39  71   0 567 157]\n",
      "# Total instances (ratio):  [ 685 3923] 0.1486545138888889\n",
      "Absolute sum diff:  0.144860833824851\n",
      "[6, 4, 17, 3, 9, 8, 22, 0, 8, 2, 16, 8, 20, 6, 26, 6, 2, 25, 1, 1, 9, 0, 8, 12, 5, 5, 4, 6, 13, 5, 2, 11, 6, 9, 0, 13, 12, 5, 7, 12]\n"
     ]
    }
   ],
   "source": [
    "result = get_cartesian_test_train_pairs(test_train_pairs, test_sum_ratio_th=test_sum_ratio_th)"
   ]
  },
  {
   "cell_type": "code",
   "execution_count": 48,
   "metadata": {},
   "outputs": [
    {
     "name": "stdout",
     "output_type": "stream",
     "text": [
      "[6, 4, 17, 3, 9, 8, 22, 0, 8, 2, 16, 8, 20, 6, 26, 6, 2, 25, 1, 1, 9, 0, 8, 12, 5, 5, 4, 6, 13, 5, 2, 11, 6, 9, 0, 13, 12, 5, 7, 12]\n"
     ]
    }
   ],
   "source": [
    "print(result)"
   ]
  },
  {
   "cell_type": "code",
   "execution_count": 49,
   "metadata": {},
   "outputs": [],
   "source": [
    "def remove_all_files(folder_path):\n",
    "    folder = Path(folder_path)\n",
    "    for file in folder.iterdir():\n",
    "        if file.is_file():\n",
    "            file.unlink()\n"
   ]
  },
  {
   "cell_type": "markdown",
   "metadata": {},
   "source": [
    "## Save the splits"
   ]
  },
  {
   "cell_type": "code",
   "execution_count": 58,
   "metadata": {},
   "outputs": [],
   "source": [
    "# remove_all_files(test_img_folder)\n",
    "# remove_all_files(test_label_folder)\n",
    "# remove_all_files(train_img_folder)\n",
    "# remove_all_files(train_label_folder)\n",
    "def save_sets(patch_dicts,best_indices,test_train_pair_indices, orig_test_train_pair_indices):\n",
    "    \n",
    "    # for file_name, patch_dict in patch_dicts.items():\n",
    "    file_names = list(patch_dicts.keys())\n",
    "    tasks = get_all_satellitepy_keys()\n",
    "    for i, ind in enumerate(best_indices):\n",
    "        # i : original image index\n",
    "        # ind : patch index within the original image\n",
    "\n",
    "        orig_ind = orig_test_train_pair_indices[i][ind]\n",
    "        # Save labels\n",
    "        file_name = Path(file_names[i]).stem\n",
    "        train_img_path = train_img_folder/f\"{file_name}.png\"\n",
    "        if train_img_path.is_file():\n",
    "             print(f'{file_name} exists in the destination train folder, skipped...')\n",
    "             continue\n",
    "        patch_dict = patch_dicts[file_names[i]]\n",
    "        label_path = label_folder / file_names[i]\n",
    "        label = read_label(label_path=label_path,label_format=label_format)\n",
    "        test_label = init_satellitepy_label()\n",
    "        train_label = init_satellitepy_label()\n",
    "        x_0, y_0 = patch_dict['start_coords'][orig_ind]\n",
    "\n",
    "        # Set test and train labels\n",
    "        ## Unique values are calculated previously for test_train_pairs\n",
    "        ## Use the corresponding unique value indices to find the train-test pair indices\n",
    "        test_indices, train_indices = test_train_pair_indices[i][ind]\n",
    "        # test_indices = patch_dict['test_indices'][ind]\n",
    "        # train_indices = patch_dict['train_indices'][ind]\n",
    "        # print(test_train_pair_indices[i][ind])\n",
    "        print(test_indices)\n",
    "        print(f\"Test image has {len(test_indices)} airplanes.\")\n",
    "        print(train_indices)\n",
    "        # if len(test_indices) == 0:\n",
    "        #     print(f\"{file_name} has no test objects, original image will be saved into the train folder.\")\n",
    "        #     train_label_path = train_label_folder / f\"{file_name}.json\"\n",
    "        #     with open(str(train_label_path), 'w') as f:\n",
    "        #         json.dump(train_label, f, indent=4)\n",
    "        #     img = read_img(img_path=img_folder/f\"{file_name}.tif\", module='rasterio')\n",
    "        #     cv2.imwrite(str(train_img_folder/f\"{file_name}.png\"),img)\n",
    "        #     continue\n",
    "        for task in tasks:\n",
    "            task_values = get_satellitepy_dict_values(label,task=task)\n",
    "            test_task_values = []\n",
    "            train_task_values = []\n",
    "            for task_value_i, task_value in enumerate(task_values):\n",
    "                if task_value_i in test_indices:\n",
    "                    test_task_values.append(task_value)\n",
    "                elif task_value_i in train_indices:\n",
    "                    train_task_values.append(task_value)\n",
    "            test_label = set_satellitepy_dict_values(test_label,task=task,value=test_task_values)\n",
    "            train_label = set_satellitepy_dict_values(train_label,task=task,value=train_task_values)\n",
    "\n",
    "        # shift test bboxes\n",
    "        for bbox_task in ['obboxes','hbboxes']:\n",
    "            bbox_values = get_satellitepy_dict_values(test_label,task=bbox_task)\n",
    "            shifted_bbox_values = (np.array(bbox_values) - [x_0, y_0]).tolist()\n",
    "            test_label = set_satellitepy_dict_values(test_label,task=bbox_task,value=shifted_bbox_values)\n",
    "\n",
    "        test_label_path = test_label_folder / f\"{file_name}.json\"\n",
    "        train_label_path = train_label_folder / f\"{file_name}.json\"\n",
    "\n",
    "        with open(str(test_label_path), 'w') as f:\n",
    "                json.dump(test_label, f, indent=4)\n",
    "        with open(str(train_label_path), 'w') as f:\n",
    "                json.dump(train_label, f, indent=4)\n",
    "\n",
    "        # Save images\n",
    "        img = read_img(img_path=str(img_folder/f\"{file_name}.{img_extension}\"), module=img_read_module)\n",
    "        test_img = img[y_0:y_0+test_img_sz, x_0:x_0+test_img_sz, :]\n",
    "        train_mask = np.ones_like(img, dtype=np.uint8)\n",
    "        train_mask[y_0:y_0+test_img_sz, x_0:x_0+test_img_sz, :] = 0\n",
    "        train_img = img*train_mask\n",
    "        cv2.imwrite(str(train_img_path),train_img)\n",
    "        cv2.imwrite(str(test_img_folder/f\"{file_name}.png\"),test_img)\n"
   ]
  },
  {
   "cell_type": "code",
   "execution_count": 69,
   "metadata": {},
   "outputs": [
    {
     "name": "stdout",
     "output_type": "stream",
     "text": [
      "Amsterdam_23MAR14104929 exists in the destination train folder, skipped...\n",
      "Bangkok_23FEB21040003 exists in the destination train folder, skipped...\n",
      "Beijing_23SEP13031225 exists in the destination train folder, skipped...\n",
      "Beijing_Capital_International_22DEC04031345 exists in the destination train folder, skipped...\n",
      "Cairo_24JAN04084426 exists in the destination train folder, skipped...\n",
      "Cairo_24JAN29084910 exists in the destination train folder, skipped...\n",
      "Charles_De_Gaulle_23MAY29105259 exists in the destination train folder, skipped...\n",
      "Charlotte_Douglas_International_Airport_24JAN18161805 exists in the destination train folder, skipped...\n",
      "Chengdu_Shuangliu_International_Airport_23NOV27035335 exists in the destination train folder, skipped...\n",
      "Chongqing_Jiangbei_International_Airport_23JUL16034146 exists in the destination train folder, skipped...\n",
      "Dallas_Fort_Worth_21JUL13170358 exists in the destination train folder, skipped...\n",
      "Dallas_Fort_Worth_22JUN16172659 exists in the destination train folder, skipped...\n",
      "Dallas_Fort_Worth_23FEB22171239 exists in the destination train folder, skipped...\n",
      "[12, 13, 14, 26, 32, 39, 40, 60, 78, 94, 95, 96, 97, 98, 99, 100, 101, 102, 103, 104, 112, 113, 114, 115, 116, 117]\n",
      "Test image has 26 airplanes.\n",
      "[0, 1, 2, 3, 4, 5, 6, 7, 8, 9, 10, 11, 15, 16, 17, 18, 19, 20, 21, 22, 23, 24, 25, 27, 28, 29, 30, 31, 33, 34, 35, 36, 37, 38, 41, 42, 43, 44, 45, 46, 47, 48, 49, 50, 51, 52, 53, 54, 55, 56, 57, 58, 59, 61, 62, 63, 64, 65, 66, 67, 68, 69, 70, 71, 72, 73, 74, 75, 76, 77, 79, 80, 81, 82, 83, 84, 85, 86, 87, 88, 89, 90, 91, 92, 93, 105, 106, 107, 108, 109, 110, 111, 118]\n"
     ]
    },
    {
     "ename": "error",
     "evalue": "OpenCV(4.5.4) /tmp/pip-req-build-1mhygbdf/opencv/modules/imgcodecs/src/loadsave.cpp:77: error: (-215:Assertion failed) pixels <= CV_IO_MAX_IMAGE_PIXELS in function 'validateInputImageSize'\n",
     "output_type": "error",
     "traceback": [
      "\u001b[0;31m---------------------------------------------------------------------------\u001b[0m",
      "\u001b[0;31merror\u001b[0m                                     Traceback (most recent call last)",
      "Cell \u001b[0;32mIn[69], line 1\u001b[0m\n\u001b[0;32m----> 1\u001b[0m \u001b[43msave_sets\u001b[49m\u001b[43m(\u001b[49m\u001b[43mpatch_dicts\u001b[49m\u001b[38;5;241;43m=\u001b[39;49m\u001b[43mpatch_dicts\u001b[49m\u001b[43m,\u001b[49m\n\u001b[1;32m      2\u001b[0m \u001b[43m    \u001b[49m\u001b[43mbest_indices\u001b[49m\u001b[38;5;241;43m=\u001b[39;49m\u001b[43mresult\u001b[49m\u001b[43m,\u001b[49m\n\u001b[1;32m      3\u001b[0m \u001b[43m    \u001b[49m\u001b[43mtest_train_pair_indices\u001b[49m\u001b[38;5;241;43m=\u001b[39;49m\u001b[43mtest_train_pair_indices\u001b[49m\u001b[43m,\u001b[49m\n\u001b[1;32m      4\u001b[0m \u001b[43m    \u001b[49m\u001b[43morig_test_train_pair_indices\u001b[49m\u001b[38;5;241;43m=\u001b[39;49m\u001b[43morig_test_train_pair_indices\u001b[49m\u001b[43m)\u001b[49m\n",
      "Cell \u001b[0;32mIn[58], line 73\u001b[0m, in \u001b[0;36msave_sets\u001b[0;34m(patch_dicts, best_indices, test_train_pair_indices, orig_test_train_pair_indices)\u001b[0m\n\u001b[1;32m     70\u001b[0m         json\u001b[38;5;241m.\u001b[39mdump(train_label, f, indent\u001b[38;5;241m=\u001b[39m\u001b[38;5;241m4\u001b[39m)\n\u001b[1;32m     72\u001b[0m \u001b[38;5;66;03m# Save images\u001b[39;00m\n\u001b[0;32m---> 73\u001b[0m img \u001b[38;5;241m=\u001b[39m \u001b[43mread_img\u001b[49m\u001b[43m(\u001b[49m\u001b[43mimg_path\u001b[49m\u001b[38;5;241;43m=\u001b[39;49m\u001b[38;5;28;43mstr\u001b[39;49m\u001b[43m(\u001b[49m\u001b[43mimg_folder\u001b[49m\u001b[38;5;241;43m/\u001b[39;49m\u001b[38;5;124;43mf\u001b[39;49m\u001b[38;5;124;43m\"\u001b[39;49m\u001b[38;5;132;43;01m{\u001b[39;49;00m\u001b[43mfile_name\u001b[49m\u001b[38;5;132;43;01m}\u001b[39;49;00m\u001b[38;5;124;43m.\u001b[39;49m\u001b[38;5;132;43;01m{\u001b[39;49;00m\u001b[43mimg_extension\u001b[49m\u001b[38;5;132;43;01m}\u001b[39;49;00m\u001b[38;5;124;43m\"\u001b[39;49m\u001b[43m)\u001b[49m\u001b[43m,\u001b[49m\u001b[43m \u001b[49m\u001b[43mmodule\u001b[49m\u001b[38;5;241;43m=\u001b[39;49m\u001b[43mimg_read_module\u001b[49m\u001b[43m)\u001b[49m\n\u001b[1;32m     74\u001b[0m test_img \u001b[38;5;241m=\u001b[39m img[y_0:y_0\u001b[38;5;241m+\u001b[39mtest_img_sz, x_0:x_0\u001b[38;5;241m+\u001b[39mtest_img_sz, :]\n\u001b[1;32m     75\u001b[0m train_mask \u001b[38;5;241m=\u001b[39m np\u001b[38;5;241m.\u001b[39mones_like(img, dtype\u001b[38;5;241m=\u001b[39mnp\u001b[38;5;241m.\u001b[39muint8)\n",
      "File \u001b[0;32m~/Projects/satellitepy/satellitepy/data/utils.py:95\u001b[0m, in \u001b[0;36mread_img\u001b[0;34m(img_path, module, rescaling, interpolation_method)\u001b[0m\n\u001b[1;32m     80\u001b[0m \u001b[38;5;250m\u001b[39m\u001b[38;5;124;03m\"\"\"\u001b[39;00m\n\u001b[1;32m     81\u001b[0m \u001b[38;5;124;03mRead image.\u001b[39;00m\n\u001b[1;32m     82\u001b[0m \u001b[38;5;124;03mParameters\u001b[39;00m\n\u001b[0;32m   (...)\u001b[0m\n\u001b[1;32m     91\u001b[0m \u001b[38;5;124;03m    Image in the opencv format,  (rows, columns, bands). If image has four bands, the alpha channel is ignored.\u001b[39;00m\n\u001b[1;32m     92\u001b[0m \u001b[38;5;124;03m\"\"\"\u001b[39;00m\n\u001b[1;32m     94\u001b[0m \u001b[38;5;28;01mif\u001b[39;00m module \u001b[38;5;241m==\u001b[39m \u001b[38;5;124m'\u001b[39m\u001b[38;5;124mcv2\u001b[39m\u001b[38;5;124m'\u001b[39m:\n\u001b[0;32m---> 95\u001b[0m     img \u001b[38;5;241m=\u001b[39m \u001b[43mcv2\u001b[49m\u001b[38;5;241;43m.\u001b[39;49m\u001b[43mimread\u001b[49m\u001b[43m(\u001b[49m\u001b[43mimg_path\u001b[49m\u001b[43m)\u001b[49m\n\u001b[1;32m     96\u001b[0m \u001b[38;5;28;01melif\u001b[39;00m module \u001b[38;5;241m==\u001b[39m \u001b[38;5;124m'\u001b[39m\u001b[38;5;124mrasterio\u001b[39m\u001b[38;5;124m'\u001b[39m:\n\u001b[1;32m     97\u001b[0m     \u001b[38;5;28;01mwith\u001b[39;00m rasterio\u001b[38;5;241m.\u001b[39mopen(img_path) \u001b[38;5;28;01mas\u001b[39;00m src:\n",
      "\u001b[0;31merror\u001b[0m: OpenCV(4.5.4) /tmp/pip-req-build-1mhygbdf/opencv/modules/imgcodecs/src/loadsave.cpp:77: error: (-215:Assertion failed) pixels <= CV_IO_MAX_IMAGE_PIXELS in function 'validateInputImageSize'\n"
     ]
    }
   ],
   "source": [
    "save_sets(patch_dicts=patch_dicts,\n",
    "    best_indices=result,\n",
    "    test_train_pair_indices=test_train_pair_indices,\n",
    "    orig_test_train_pair_indices=orig_test_train_pair_indices)"
   ]
  },
  {
   "cell_type": "code",
   "execution_count": 208,
   "metadata": {},
   "outputs": [
    {
     "name": "stderr",
     "output_type": "stream",
     "text": [
      "100%|██████████| 2/2 [00:48<00:00, 24.21s/it]\n"
     ]
    }
   ],
   "source": [
    "show_labels_on_images(image_folder=test_img_folder,\n",
    "        label_folder=test_label_folder,\n",
    "        mask_folder=None,\n",
    "        label_format='satellitepy',\n",
    "        img_read_module='cv2',\n",
    "        out_folder=Path('/home/murat/Projects/satellitepy/docs/temp_fineair_set'),\n",
    "        tasks=['coarse-class','obboxes'],\n",
    "        rescaling=1.0,\n",
    "        interpolation_method=None)"
   ]
  },
  {
   "cell_type": "code",
   "execution_count": null,
   "metadata": {},
   "outputs": [],
   "source": []
  }
 ],
 "metadata": {
  "kernelspec": {
   "display_name": "venv_satellitepy",
   "language": "python",
   "name": "python3"
  },
  "language_info": {
   "codemirror_mode": {
    "name": "ipython",
    "version": 3
   },
   "file_extension": ".py",
   "mimetype": "text/x-python",
   "name": "python",
   "nbconvert_exporter": "python",
   "pygments_lexer": "ipython3",
   "version": "3.10.12"
  }
 },
 "nbformat": 4,
 "nbformat_minor": 2
}
