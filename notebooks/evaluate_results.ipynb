{
 "cells": [
  {
   "cell_type": "code",
   "execution_count": 9,
   "metadata": {},
   "outputs": [],
   "source": []
  },
  {
   "cell_type": "code",
   "execution_count": null,
   "metadata": {},
   "outputs": [],
   "source": [
    "def read_undet_indices(result_path):\n",
    "    undet_indices = []\n",
    "    with open(result_path,'r') as f:\n",
    "        header_found = False\n",
    "        for line in f:\n",
    "            # Strip leading/trailing whitespace characters\n",
    "            line = line.strip()\n",
    "            \n",
    "            # Check if the current line is the header\n",
    "            if line == \"# Undetected object indices\":\n",
    "                header_found = True\n",
    "                continue\n",
    "            \n",
    "            # If the header is found, store the subsequent lines\n",
    "            if header_found:\n",
    "                undet_indices.append(line)\n",
    "    return undet_indices\n",
    "\n",
    "cgc_result_path = '/mnt/2tb-1/satellitepy/fineair_experiments/roi_trans_cgc/evaluations/mAP_values.txt'\n",
    "fac_result_path = '/mnt/2tb-1/satellitepy/fineair_experiments/roi_trans_fac/evaluations/mAP_values.txt'\n",
    "cgc_undet_indices = read_undet_indices(cgc_result_path)\n",
    "fac_undet_indices = read_undet_indices(fac_result_path)\n",
    "# Print the stored lines (optional)\n",
    "# Find overlapping items (intersection)\n",
    "overlapping_items = list(set(cgc_undet_indices) & set(fac_undet_indices))\n",
    "\n",
    "# Find non-overlapping items in List 1\n",
    "nonoverlapping_list1 = list(set(cgc_undet_indices) - set(fac_undet_indices))\n",
    "\n",
    "# Find non-overlapping items in List 2\n",
    "nonoverlapping_list2 = list(set(fac_undet_indices) - set(cgc_undet_indices))\n",
    "\n",
    "# Print the results\n",
    "print(\"Total # Undetected objects by the CGC model:\", len(cgc_undet_indices))\n",
    "print(\"Total # Undetected objects by the FAC model:\", len(fac_undet_indices))\n",
    "print(\"# Undetected objects by both:\", len(overlapping_items))\n",
    "print(\"# Undetected objects only by the CGC model:\", len(nonoverlapping_list1))\n",
    "print(\"# Undetected objects only by the FAC model:\", len(nonoverlapping_list2))\n",
    "\n"
   ]
  },
  {
   "cell_type": "markdown",
   "metadata": {},
   "source": [
    "# fix tobias' result files"
   ]
  },
  {
   "cell_type": "code",
   "execution_count": 1,
   "metadata": {},
   "outputs": [],
   "source": [
    "import json\n",
    "from pathlib import Path\n",
    "import numpy as np\n",
    "from satellitepy.data.utils import get_satellitepy_table\n"
   ]
  },
  {
   "cell_type": "code",
   "execution_count": 4,
   "metadata": {},
   "outputs": [],
   "source": [
    "in_folders = ['/home/murat/Projects/satellitepy/exps/tobias_SR/v1/Fainair_Lables_dota_enhx4',\n",
    "'/home/murat/Projects/satellitepy/exps/tobias_SR/v1/Fainair_Lables_dota_enh',\n",
    "'/home/murat/Projects/satellitepy/exps/tobias_SR/v1/Fainair_Lables_dota_org',\n",
    "'/home/murat/Projects/satellitepy/exps/tobias_SR/v1/Fainair_Lables_dota_orgx4']\n",
    "\n",
    "out_folders = ['/home/murat/Projects/satellitepy/exps/tobias_SR/v1_fixed/Fainair_Lables_dota_enhx4',\n",
    "'/home/murat/Projects/satellitepy/exps/tobias_SR/v1_fixed/Fainair_Lables_dota_enh',\n",
    "'/home/murat/Projects/satellitepy/exps/tobias_SR/v1_fixed/Fainair_Lables_dota_org',\n",
    "'/home/murat/Projects/satellitepy/exps/tobias_SR/v1_fixed/Fainair_Lables_dota_orgx4']"
   ]
  },
  {
   "cell_type": "code",
   "execution_count": 5,
   "metadata": {},
   "outputs": [],
   "source": [
    "for out_folder in out_folders:\n",
    "    Path(out_folder).mkdir(parents=True, exist_ok=True)\n",
    "\n",
    "instance_dict = get_satellitepy_table()['coarse-class']\n",
    "cgc_keys = list(instance_dict.keys())\n",
    "for in_folder, out_folder in zip(in_folders,out_folders):\n",
    "    for result_path in Path(in_folder).glob('**/*'):\n",
    "        with open(result_path, 'r') as f:\n",
    "            result = json.load(f)\n",
    "        result['det_labels'][\"confidence-scores\"] = np.array(result['det_labels'][\"confidence-score\"]).astype(float).tolist()\n",
    "        del result['det_labels'][\"confidence-score\"]\n",
    "        # result['det_labels']['hbboxes'] = np.array(result['det_labels']['hbboxes']).astype(float).tolist()\n",
    "        # result['det_labels']['coarse-class'] = [cgc_keys[ind] for ind in np.array(result['det_labels']['coarse-class']).astype(int)]\n",
    "        result['det_labels']['coarse-class'] = np.array(result['det_labels']['coarse-class']).astype(int).tolist()\n",
    "        # result['gt_labels']['coarse-class'] = [cgc_keys[ind] for ind in np.array(result['gt_labels']['coarse-class']).astype(int)]\n",
    "        result['gt_labels']['coarse-class'] = np.array(result['gt_labels']['coarse-class']).astype(int).tolist()\n",
    "        # result['gt_labels']['hbboxes'] = np.array(result['gt_labels']['hbboxes']).astype(float).tolist()\n",
    "\n",
    "        out_result_path = Path(out_folder) / result_path.name\n",
    "        with open(str(out_result_path), 'w') as fw:\n",
    "            json.dump(result, fw)\n",
    "\n",
    "\n",
    "        "
   ]
  },
  {
   "cell_type": "code",
   "execution_count": null,
   "metadata": {},
   "outputs": [],
   "source": []
  }
 ],
 "metadata": {
  "kernelspec": {
   "display_name": "venv_satellitepy",
   "language": "python",
   "name": "python3"
  },
  "language_info": {
   "codemirror_mode": {
    "name": "ipython",
    "version": 3
   },
   "file_extension": ".py",
   "mimetype": "text/x-python",
   "name": "python",
   "nbconvert_exporter": "python",
   "pygments_lexer": "ipython3",
   "version": "3.10.12"
  }
 },
 "nbformat": 4,
 "nbformat_minor": 2
}
