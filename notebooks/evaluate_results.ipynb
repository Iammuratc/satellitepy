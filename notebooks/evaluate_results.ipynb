{
 "cells": [
  {
   "cell_type": "code",
   "execution_count": 9,
   "metadata": {},
   "outputs": [],
   "source": []
  },
  {
   "cell_type": "code",
   "execution_count": 15,
   "metadata": {},
   "outputs": [
    {
     "name": "stdout",
     "output_type": "stream",
     "text": [
      "Total # Undetected objects by the CGC model: 157\n",
      "Total # Undetected objects by the FAC model: 504\n",
      "# Undetected objects by both: 154\n",
      "# Undetected objects only by the CGC model: 3\n",
      "# Undetected objects only by the FAC model: 350\n"
     ]
    }
   ],
   "source": [
    "def read_undet_indices(result_path):\n",
    "    undet_indices = []\n",
    "    with open(result_path,'r') as f:\n",
    "        header_found = False\n",
    "        for line in f:\n",
    "            # Strip leading/trailing whitespace characters\n",
    "            line = line.strip()\n",
    "            \n",
    "            # Check if the current line is the header\n",
    "            if line == \"# Undetected object indices\":\n",
    "                header_found = True\n",
    "                continue\n",
    "            \n",
    "            # If the header is found, store the subsequent lines\n",
    "            if header_found:\n",
    "                undet_indices.append(line)\n",
    "    return undet_indices\n",
    "\n",
    "cgc_result_path = '/mnt/2tb-1/satellitepy/fineair_experiments/roi_trans_cgc/evaluations/mAP_values.txt'\n",
    "fac_result_path = '/mnt/2tb-1/satellitepy/fineair_experiments/roi_trans_fac/evaluations/mAP_values.txt'\n",
    "cgc_undet_indices = read_undet_indices(cgc_result_path)\n",
    "fac_undet_indices = read_undet_indices(fac_result_path)\n",
    "# Print the stored lines (optional)\n",
    "# Find overlapping items (intersection)\n",
    "overlapping_items = list(set(cgc_undet_indices) & set(fac_undet_indices))\n",
    "\n",
    "# Find non-overlapping items in List 1\n",
    "nonoverlapping_list1 = list(set(cgc_undet_indices) - set(fac_undet_indices))\n",
    "\n",
    "# Find non-overlapping items in List 2\n",
    "nonoverlapping_list2 = list(set(fac_undet_indices) - set(cgc_undet_indices))\n",
    "\n",
    "# Print the results\n",
    "print(\"Total # Undetected objects by the CGC model:\", len(cgc_undet_indices))\n",
    "print(\"Total # Undetected objects by the FAC model:\", len(fac_undet_indices))\n",
    "print(\"# Undetected objects by both:\", len(overlapping_items))\n",
    "print(\"# Undetected objects only by the CGC model:\", len(nonoverlapping_list1))\n",
    "print(\"# Undetected objects only by the FAC model:\", len(nonoverlapping_list2))\n",
    "\n"
   ]
  },
  {
   "cell_type": "code",
   "execution_count": null,
   "metadata": {},
   "outputs": [],
   "source": []
  }
 ],
 "metadata": {
  "kernelspec": {
   "display_name": "venv_satellitepy",
   "language": "python",
   "name": "python3"
  },
  "language_info": {
   "codemirror_mode": {
    "name": "ipython",
    "version": 3
   },
   "file_extension": ".py",
   "mimetype": "text/x-python",
   "name": "python",
   "nbconvert_exporter": "python",
   "pygments_lexer": "ipython3",
   "version": "3.10.12"
  }
 },
 "nbformat": 4,
 "nbformat_minor": 2
}
