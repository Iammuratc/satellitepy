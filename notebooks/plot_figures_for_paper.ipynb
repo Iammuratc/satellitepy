{
 "cells": [
  {
   "cell_type": "code",
   "execution_count": 2,
   "metadata": {},
   "outputs": [],
   "source": [
    "import matplotlib.pyplot as plt\n",
    "import numpy as np\n",
    "import geopandas as gpd\n",
    "import re\n",
    "import pandas as pd\n",
    "from shapely.geometry import Point"
   ]
  },
  {
   "cell_type": "code",
   "execution_count": 11,
   "metadata": {},
   "outputs": [
    {
     "name": "stderr",
     "output_type": "stream",
     "text": [
      "/tmp/ipykernel_968161/3919767049.py:1: FutureWarning: The geopandas.dataset module is deprecated and will be removed in GeoPandas 1.0. You can get the original 'naturalearth_lowres' data from https://www.naturalearthdata.com/downloads/110m-cultural-vectors/.\n",
      "  world = gpd.read_file(gpd.datasets.get_path(\"naturalearth_lowres\"))\n"
     ]
    }
   ],
   "source": [
    "world = gpd.read_file(gpd.datasets.get_path(\"naturalearth_lowres\"))"
   ]
  },
  {
   "cell_type": "markdown",
   "metadata": {},
   "source": [
    "# Plot world"
   ]
  },
  {
   "cell_type": "code",
   "execution_count": null,
   "metadata": {},
   "outputs": [],
   "source": [
    "# initialize an empty figure and add an axis\n",
    "fig = plt.figure(figsize=(20, 10))\n",
    "ax = fig.add_subplot()\n",
    "\n",
    "# plot a basic map of the world\n",
    "world.plot(\n",
    "    ax=ax,\n",
    "    color=\"lightgray\",\n",
    "    edgecolor=\"black\",\n",
    "    alpha=0.5\n",
    ")\n",
    "\n",
    "# turn off axis ticks\n",
    "ax.set_xticks([])\n",
    "ax.set_yticks([])\n",
    "\n",
    "# set the plot title\n",
    "plt.title(\"Basic Map of World with GeoPandas\")\n",
    "plt.show()\n"
   ]
  },
  {
   "cell_type": "markdown",
   "metadata": {},
   "source": [
    "# Plot airports in the world map"
   ]
  },
  {
   "cell_type": "code",
   "execution_count": null,
   "metadata": {},
   "outputs": [],
   "source": [
    "import pandas as pd\n",
    "import geopandas as gpd\n",
    "import matplotlib.pyplot as plt\n",
    "from adjustText import adjust_text\n",
    "\n",
    "# Example DataFrame with airport data\n",
    "\n",
    "df = pd.read_csv('/home/murat/Projects/satellitepy/data/airport_list.csv')\n",
    "# airport_df['country'] \n",
    "# data = {\n",
    "#     'iata': ['SIN', 'CDG', 'DFW', 'DEN', 'ORD', 'MCO', 'IAH', 'YYZ', 'CGK', 'CAN', 'DMM', 'PKX', 'PVG', 'CAI', 'BKK', 'IST', 'SZX', 'FRA', 'CTU', 'IAD', 'CKG', 'PEK', 'JFK', 'HND', 'ATL', 'DXB', 'MIA', 'CLT', 'LAS'],    'latitude': [1.3644, 49.0097, 32.8968, 39.8561, 41.9786, 28.4312, 29.9902, 43.6777, -6.1256, 23.3924, 26.4711, 39.5094, 31.1443, 30.1219, 13.6811, 41.2753, 22.6393, 50.0379, 30.5785, 38.9531, 29.7192, 40.0801, 40.6413, 35.5494, 33.6407, 25.2532, 25.7933, 35.214, 36.08],\n",
    "#     'longitude': [103.9915, 2.5479, -97.0372, -104.6737, -87.9048, -81.3081, -95.3368, -79.6248, 106.6559, 113.2988, 49.7974, 116.4125, 121.8092, 31.4059, 100.7473, 28.9775, 113.8108, 8.5622, 103.9472, -77.4565, 106.6417, 116.5846, -73.7781, 139.7798, -84.4277, 55.3657, -80.2906, -80.9431, -115.151],\n",
    "#     'continent': ['Asia', 'Europe', 'North America', 'North America', 'North America', 'North America', 'North America', 'North America', 'Asia', 'Asia', 'Asia', 'Asia', 'Asia', 'Africa', 'Asia', 'Europe', 'Asia', 'Europe', 'Asia', 'North America', 'Asia', 'Asia', 'North America', 'Asia', 'North America', 'Asia', 'North America', 'North America', 'North America'],\n",
    "#     'country': ['Singapore', 'France', 'United States', 'United States', 'United States', 'United States', 'United States', 'Canada', 'Indonesia', 'China', 'Saudi Arabia', 'China', 'China', 'Egypt', 'Thailand', 'Turkey', 'China', 'Germany', 'China', 'United States', 'China', 'China', 'United States', 'Japan', 'United States', 'United Arab Emirates', 'United States', 'United States', 'United States']\n",
    "#     }\n",
    "# df = pd.DataFrame(data)\n",
    "\n",
    "# values, count_per_continent = np.unique(airport_df['continent'], return_counts=True)\n",
    "# print(values)\n",
    "# print(f\"Number of uniequ countries: {len(values)}\")\n",
    "# print(count_per_continent)\n",
    "# print(f\"Sum of images: {sum(count_per_continent)}\")\n",
    "\n",
    "print(len(np.unique(df['Airport Code'])))\n",
    "\n",
    "# Load the world map data\n",
    "world = gpd.read_file(gpd.datasets.get_path('naturalearth_lowres'))\n",
    "\n",
    "# Create a GeoDataFrame from the airport data\n",
    "gdf = gpd.GeoDataFrame(df, geometry=gpd.points_from_xy(df.longitude, df.latitude))\n",
    "\n",
    "# Plot the world map\n",
    "fig, ax = plt.subplots(figsize=(15, 10))\n",
    "# turn off axis ticks\n",
    "ax.set_xticks([])\n",
    "ax.set_yticks([])\n",
    "\n",
    "world.plot(ax=ax, color='lightgrey')\n",
    "\n",
    "# Plot the airports\n",
    "gdf.plot(ax=ax, color='red', markersize=20, marker='o')\n",
    "\n",
    "# Annotate the airports with their IATA codes\n",
    "texts = []\n",
    "airport_code_set = []\n",
    "for x, y, label in zip(gdf.geometry.x, gdf.geometry.y, gdf['Airport Code']):\n",
    "    if label in airport_code_set:\n",
    "        continue\n",
    "    else:\n",
    "        airport_code_set.append(label)\n",
    "    texts.append(ax.text(x, y, label, fontsize=7, ha='right', color='black'))\n",
    "\n",
    "# Adjust text to prevent overlapping\n",
    "adjust_text(texts, arrowprops=dict(arrowstyle='-', color='grey', lw=0.5))\n",
    "\n",
    "# Set plot title and show the plot\n",
    "plt.title('Airport Locations on World Map')\n",
    "# plt.xlabel('Longitude')\n",
    "# plt.ylabel('Latitude')\n",
    "# Remove axis\n",
    "ax.set_axis_off()\n",
    "\n",
    "# Tight layout\n",
    "plt.tight_layout()\n",
    "plt.savefig('/home/murat/Projects/satellitepy/docs/paper/airport_locations_map.png', dpi=300, bbox_inches='tight', pad_inches=0)\n",
    "plt.show()\n"
   ]
  },
  {
   "cell_type": "code",
   "execution_count": 12,
   "metadata": {},
   "outputs": [
    {
     "name": "stdout",
     "output_type": "stream",
     "text": [
      "29\n"
     ]
    }
   ],
   "source": [
    "print(len(np.unique(data['iata'])))"
   ]
  },
  {
   "cell_type": "code",
   "execution_count": null,
   "metadata": {},
   "outputs": [],
   "source": [
    "# def dms2dd(s):\n",
    "#     # example: s = \"\"\"0°51'56.29\"S\"\"\"\n",
    "#     degrees, minutes, seconds, direction = re.split('[°\\'\"]+', s)\n",
    "#     dd = float(degrees) + float(minutes)/60 + float(seconds)/(60*60);\n",
    "#     if direction in ('S','W'):\n",
    "#         dd*= -1\n",
    "#     return dd\n",
    "\n",
    "\n"
   ]
  },
  {
   "cell_type": "markdown",
   "metadata": {},
   "source": [
    "# Plot all classes in a graph"
   ]
  },
  {
   "cell_type": "code",
   "execution_count": null,
   "metadata": {},
   "outputs": [],
   "source": [
    "import plotly.express as px\n",
    "import pandas as pd\n",
    "\n",
    "# Sample data\n",
    "data = {\n",
    "    'Level 1': ['airplane', 'airplane', 'airplane', 'airplane', 'airplane'],\n",
    "    'Level 2': ['A320', 'A320', 'A320', 'B737', 'B737'],\n",
    "    'Level 3': ['A320-211', 'A320-232', 'A320-211', 'B737-800', 'B737-900']\n",
    "}\n",
    "\n",
    "# Create a DataFrame\n",
    "df = pd.DataFrame(data)\n",
    "\n",
    "# Plotting\n",
    "fig = px.sunburst(df, path=['Level 1', 'Level 2', 'Level 3'], title='Distribution of Classes at Three Levels')\n",
    "fig.show()"
   ]
  },
  {
   "cell_type": "markdown",
   "metadata": {},
   "source": [
    "# Display a large image"
   ]
  },
  {
   "cell_type": "code",
   "execution_count": 2,
   "metadata": {},
   "outputs": [],
   "source": [
    "import cv2"
   ]
  },
  {
   "cell_type": "code",
   "execution_count": null,
   "metadata": {},
   "outputs": [],
   "source": [
    "import rasterio\n",
    "import matplotlib.pyplot as plt\n",
    "import numpy as np\n",
    "img_path = '/mnt/2tb-1/satellitepy/exp/image_result/Amsterdam_23MAR14104929.png'\n",
    "# img = cv2.imread(img_path)\n",
    "with rasterio.open(img_path) as src:\n",
    "    # Read the image as a numpy array\n",
    "    img = src.read()\n",
    "\n",
    "    # Get image metadata\n",
    "    metadata = src.meta\n",
    "\n",
    "    img_cv = np.transpose(img, axes=(1, 2, 0))\n",
    "\n",
    "\n",
    "plt.imshow(img_cv)"
   ]
  },
  {
   "cell_type": "markdown",
   "metadata": {},
   "source": [
    "## Cut out the image"
   ]
  },
  {
   "cell_type": "code",
   "execution_count": null,
   "metadata": {},
   "outputs": [],
   "source": [
    "y_0 = 19000\n",
    "y_1 = 21000\n",
    "x_0 = 10000\n",
    "x_1 = 15000\n",
    "\n",
    "img_cutout = img_cv[y_0:y_1,x_0:x_1,:]\n",
    "plt.imshow(img_cutout)\n",
    "cv2.imwrite('/home/murat/Projects/satellitepy/docs/paper/detections/detection.png',img_cutout)\n"
   ]
  },
  {
   "cell_type": "code",
   "execution_count": 3,
   "metadata": {},
   "outputs": [
    {
     "data": {
      "text/plain": [
       "(6022, 4752, 3)"
      ]
     },
     "execution_count": 3,
     "metadata": {},
     "output_type": "execute_result"
    }
   ],
   "source": [
    "height, width = img_cv.shape[:2]\n",
    "\n",
    "# Calculate the new dimensions\n",
    "new_width = int(width * 0.2)\n",
    "new_height = int(height * 0.2)\n",
    "\n",
    "# Resize the image\n",
    "img_cv_resized = cv2.resize(img_cv, (new_width, new_height))\n",
    "img_cv_resized.shape"
   ]
  },
  {
   "cell_type": "code",
   "execution_count": 6,
   "metadata": {},
   "outputs": [
    {
     "data": {
      "text/plain": [
       "True"
      ]
     },
     "execution_count": 6,
     "metadata": {},
     "output_type": "execute_result"
    }
   ],
   "source": [
    "cv2.imwrite('/mnt/2tb-1/satellitepy/exp/image_result/resized.png',img_cv_resized)"
   ]
  },
  {
   "cell_type": "code",
   "execution_count": 13,
   "metadata": {},
   "outputs": [
    {
     "data": {
      "application/vnd.plotly.v1+json": {
       "config": {
        "plotlyServerURL": "https://plot.ly"
       },
       "data": [
        {
         "insidetextanchor": "middle",
         "marker": {
          "color": "blue"
         },
         "orientation": "h",
         "text": "Class A",
         "textposition": "inside",
         "type": "bar",
         "x": [
          10
         ],
         "y": [
          "Distribution"
         ]
        },
        {
         "insidetextanchor": "middle",
         "marker": {
          "color": "orange"
         },
         "orientation": "h",
         "text": "Class B",
         "textposition": "inside",
         "type": "bar",
         "x": [
          20
         ],
         "y": [
          "Distribution"
         ]
        },
        {
         "insidetextanchor": "middle",
         "marker": {
          "color": "green",
          "line": {
           "color": "black",
           "width": 2
          }
         },
         "orientation": "h",
         "text": "Class C",
         "textposition": "inside",
         "type": "bar",
         "x": [
          30
         ],
         "y": [
          "Distribution"
         ]
        }
       ],
       "layout": {
        "barmode": "stack",
        "legend": {
         "title": {
          "text": "Classes"
         }
        },
        "template": {
         "data": {
          "bar": [
           {
            "error_x": {
             "color": "#2a3f5f"
            },
            "error_y": {
             "color": "#2a3f5f"
            },
            "marker": {
             "line": {
              "color": "#E5ECF6",
              "width": 0.5
             },
             "pattern": {
              "fillmode": "overlay",
              "size": 10,
              "solidity": 0.2
             }
            },
            "type": "bar"
           }
          ],
          "barpolar": [
           {
            "marker": {
             "line": {
              "color": "#E5ECF6",
              "width": 0.5
             },
             "pattern": {
              "fillmode": "overlay",
              "size": 10,
              "solidity": 0.2
             }
            },
            "type": "barpolar"
           }
          ],
          "carpet": [
           {
            "aaxis": {
             "endlinecolor": "#2a3f5f",
             "gridcolor": "white",
             "linecolor": "white",
             "minorgridcolor": "white",
             "startlinecolor": "#2a3f5f"
            },
            "baxis": {
             "endlinecolor": "#2a3f5f",
             "gridcolor": "white",
             "linecolor": "white",
             "minorgridcolor": "white",
             "startlinecolor": "#2a3f5f"
            },
            "type": "carpet"
           }
          ],
          "choropleth": [
           {
            "colorbar": {
             "outlinewidth": 0,
             "ticks": ""
            },
            "type": "choropleth"
           }
          ],
          "contour": [
           {
            "colorbar": {
             "outlinewidth": 0,
             "ticks": ""
            },
            "colorscale": [
             [
              0,
              "#0d0887"
             ],
             [
              0.1111111111111111,
              "#46039f"
             ],
             [
              0.2222222222222222,
              "#7201a8"
             ],
             [
              0.3333333333333333,
              "#9c179e"
             ],
             [
              0.4444444444444444,
              "#bd3786"
             ],
             [
              0.5555555555555556,
              "#d8576b"
             ],
             [
              0.6666666666666666,
              "#ed7953"
             ],
             [
              0.7777777777777778,
              "#fb9f3a"
             ],
             [
              0.8888888888888888,
              "#fdca26"
             ],
             [
              1,
              "#f0f921"
             ]
            ],
            "type": "contour"
           }
          ],
          "contourcarpet": [
           {
            "colorbar": {
             "outlinewidth": 0,
             "ticks": ""
            },
            "type": "contourcarpet"
           }
          ],
          "heatmap": [
           {
            "colorbar": {
             "outlinewidth": 0,
             "ticks": ""
            },
            "colorscale": [
             [
              0,
              "#0d0887"
             ],
             [
              0.1111111111111111,
              "#46039f"
             ],
             [
              0.2222222222222222,
              "#7201a8"
             ],
             [
              0.3333333333333333,
              "#9c179e"
             ],
             [
              0.4444444444444444,
              "#bd3786"
             ],
             [
              0.5555555555555556,
              "#d8576b"
             ],
             [
              0.6666666666666666,
              "#ed7953"
             ],
             [
              0.7777777777777778,
              "#fb9f3a"
             ],
             [
              0.8888888888888888,
              "#fdca26"
             ],
             [
              1,
              "#f0f921"
             ]
            ],
            "type": "heatmap"
           }
          ],
          "heatmapgl": [
           {
            "colorbar": {
             "outlinewidth": 0,
             "ticks": ""
            },
            "colorscale": [
             [
              0,
              "#0d0887"
             ],
             [
              0.1111111111111111,
              "#46039f"
             ],
             [
              0.2222222222222222,
              "#7201a8"
             ],
             [
              0.3333333333333333,
              "#9c179e"
             ],
             [
              0.4444444444444444,
              "#bd3786"
             ],
             [
              0.5555555555555556,
              "#d8576b"
             ],
             [
              0.6666666666666666,
              "#ed7953"
             ],
             [
              0.7777777777777778,
              "#fb9f3a"
             ],
             [
              0.8888888888888888,
              "#fdca26"
             ],
             [
              1,
              "#f0f921"
             ]
            ],
            "type": "heatmapgl"
           }
          ],
          "histogram": [
           {
            "marker": {
             "pattern": {
              "fillmode": "overlay",
              "size": 10,
              "solidity": 0.2
             }
            },
            "type": "histogram"
           }
          ],
          "histogram2d": [
           {
            "colorbar": {
             "outlinewidth": 0,
             "ticks": ""
            },
            "colorscale": [
             [
              0,
              "#0d0887"
             ],
             [
              0.1111111111111111,
              "#46039f"
             ],
             [
              0.2222222222222222,
              "#7201a8"
             ],
             [
              0.3333333333333333,
              "#9c179e"
             ],
             [
              0.4444444444444444,
              "#bd3786"
             ],
             [
              0.5555555555555556,
              "#d8576b"
             ],
             [
              0.6666666666666666,
              "#ed7953"
             ],
             [
              0.7777777777777778,
              "#fb9f3a"
             ],
             [
              0.8888888888888888,
              "#fdca26"
             ],
             [
              1,
              "#f0f921"
             ]
            ],
            "type": "histogram2d"
           }
          ],
          "histogram2dcontour": [
           {
            "colorbar": {
             "outlinewidth": 0,
             "ticks": ""
            },
            "colorscale": [
             [
              0,
              "#0d0887"
             ],
             [
              0.1111111111111111,
              "#46039f"
             ],
             [
              0.2222222222222222,
              "#7201a8"
             ],
             [
              0.3333333333333333,
              "#9c179e"
             ],
             [
              0.4444444444444444,
              "#bd3786"
             ],
             [
              0.5555555555555556,
              "#d8576b"
             ],
             [
              0.6666666666666666,
              "#ed7953"
             ],
             [
              0.7777777777777778,
              "#fb9f3a"
             ],
             [
              0.8888888888888888,
              "#fdca26"
             ],
             [
              1,
              "#f0f921"
             ]
            ],
            "type": "histogram2dcontour"
           }
          ],
          "mesh3d": [
           {
            "colorbar": {
             "outlinewidth": 0,
             "ticks": ""
            },
            "type": "mesh3d"
           }
          ],
          "parcoords": [
           {
            "line": {
             "colorbar": {
              "outlinewidth": 0,
              "ticks": ""
             }
            },
            "type": "parcoords"
           }
          ],
          "pie": [
           {
            "automargin": true,
            "type": "pie"
           }
          ],
          "scatter": [
           {
            "fillpattern": {
             "fillmode": "overlay",
             "size": 10,
             "solidity": 0.2
            },
            "type": "scatter"
           }
          ],
          "scatter3d": [
           {
            "line": {
             "colorbar": {
              "outlinewidth": 0,
              "ticks": ""
             }
            },
            "marker": {
             "colorbar": {
              "outlinewidth": 0,
              "ticks": ""
             }
            },
            "type": "scatter3d"
           }
          ],
          "scattercarpet": [
           {
            "marker": {
             "colorbar": {
              "outlinewidth": 0,
              "ticks": ""
             }
            },
            "type": "scattercarpet"
           }
          ],
          "scattergeo": [
           {
            "marker": {
             "colorbar": {
              "outlinewidth": 0,
              "ticks": ""
             }
            },
            "type": "scattergeo"
           }
          ],
          "scattergl": [
           {
            "marker": {
             "colorbar": {
              "outlinewidth": 0,
              "ticks": ""
             }
            },
            "type": "scattergl"
           }
          ],
          "scattermapbox": [
           {
            "marker": {
             "colorbar": {
              "outlinewidth": 0,
              "ticks": ""
             }
            },
            "type": "scattermapbox"
           }
          ],
          "scatterpolar": [
           {
            "marker": {
             "colorbar": {
              "outlinewidth": 0,
              "ticks": ""
             }
            },
            "type": "scatterpolar"
           }
          ],
          "scatterpolargl": [
           {
            "marker": {
             "colorbar": {
              "outlinewidth": 0,
              "ticks": ""
             }
            },
            "type": "scatterpolargl"
           }
          ],
          "scatterternary": [
           {
            "marker": {
             "colorbar": {
              "outlinewidth": 0,
              "ticks": ""
             }
            },
            "type": "scatterternary"
           }
          ],
          "surface": [
           {
            "colorbar": {
             "outlinewidth": 0,
             "ticks": ""
            },
            "colorscale": [
             [
              0,
              "#0d0887"
             ],
             [
              0.1111111111111111,
              "#46039f"
             ],
             [
              0.2222222222222222,
              "#7201a8"
             ],
             [
              0.3333333333333333,
              "#9c179e"
             ],
             [
              0.4444444444444444,
              "#bd3786"
             ],
             [
              0.5555555555555556,
              "#d8576b"
             ],
             [
              0.6666666666666666,
              "#ed7953"
             ],
             [
              0.7777777777777778,
              "#fb9f3a"
             ],
             [
              0.8888888888888888,
              "#fdca26"
             ],
             [
              1,
              "#f0f921"
             ]
            ],
            "type": "surface"
           }
          ],
          "table": [
           {
            "cells": {
             "fill": {
              "color": "#EBF0F8"
             },
             "line": {
              "color": "white"
             }
            },
            "header": {
             "fill": {
              "color": "#C8D4E3"
             },
             "line": {
              "color": "white"
             }
            },
            "type": "table"
           }
          ]
         },
         "layout": {
          "annotationdefaults": {
           "arrowcolor": "#2a3f5f",
           "arrowhead": 0,
           "arrowwidth": 1
          },
          "autotypenumbers": "strict",
          "coloraxis": {
           "colorbar": {
            "outlinewidth": 0,
            "ticks": ""
           }
          },
          "colorscale": {
           "diverging": [
            [
             0,
             "#8e0152"
            ],
            [
             0.1,
             "#c51b7d"
            ],
            [
             0.2,
             "#de77ae"
            ],
            [
             0.3,
             "#f1b6da"
            ],
            [
             0.4,
             "#fde0ef"
            ],
            [
             0.5,
             "#f7f7f7"
            ],
            [
             0.6,
             "#e6f5d0"
            ],
            [
             0.7,
             "#b8e186"
            ],
            [
             0.8,
             "#7fbc41"
            ],
            [
             0.9,
             "#4d9221"
            ],
            [
             1,
             "#276419"
            ]
           ],
           "sequential": [
            [
             0,
             "#0d0887"
            ],
            [
             0.1111111111111111,
             "#46039f"
            ],
            [
             0.2222222222222222,
             "#7201a8"
            ],
            [
             0.3333333333333333,
             "#9c179e"
            ],
            [
             0.4444444444444444,
             "#bd3786"
            ],
            [
             0.5555555555555556,
             "#d8576b"
            ],
            [
             0.6666666666666666,
             "#ed7953"
            ],
            [
             0.7777777777777778,
             "#fb9f3a"
            ],
            [
             0.8888888888888888,
             "#fdca26"
            ],
            [
             1,
             "#f0f921"
            ]
           ],
           "sequentialminus": [
            [
             0,
             "#0d0887"
            ],
            [
             0.1111111111111111,
             "#46039f"
            ],
            [
             0.2222222222222222,
             "#7201a8"
            ],
            [
             0.3333333333333333,
             "#9c179e"
            ],
            [
             0.4444444444444444,
             "#bd3786"
            ],
            [
             0.5555555555555556,
             "#d8576b"
            ],
            [
             0.6666666666666666,
             "#ed7953"
            ],
            [
             0.7777777777777778,
             "#fb9f3a"
            ],
            [
             0.8888888888888888,
             "#fdca26"
            ],
            [
             1,
             "#f0f921"
            ]
           ]
          },
          "colorway": [
           "#636efa",
           "#EF553B",
           "#00cc96",
           "#ab63fa",
           "#FFA15A",
           "#19d3f3",
           "#FF6692",
           "#B6E880",
           "#FF97FF",
           "#FECB52"
          ],
          "font": {
           "color": "#2a3f5f"
          },
          "geo": {
           "bgcolor": "white",
           "lakecolor": "white",
           "landcolor": "#E5ECF6",
           "showlakes": true,
           "showland": true,
           "subunitcolor": "white"
          },
          "hoverlabel": {
           "align": "left"
          },
          "hovermode": "closest",
          "mapbox": {
           "style": "light"
          },
          "paper_bgcolor": "white",
          "plot_bgcolor": "#E5ECF6",
          "polar": {
           "angularaxis": {
            "gridcolor": "white",
            "linecolor": "white",
            "ticks": ""
           },
           "bgcolor": "#E5ECF6",
           "radialaxis": {
            "gridcolor": "white",
            "linecolor": "white",
            "ticks": ""
           }
          },
          "scene": {
           "xaxis": {
            "backgroundcolor": "#E5ECF6",
            "gridcolor": "white",
            "gridwidth": 2,
            "linecolor": "white",
            "showbackground": true,
            "ticks": "",
            "zerolinecolor": "white"
           },
           "yaxis": {
            "backgroundcolor": "#E5ECF6",
            "gridcolor": "white",
            "gridwidth": 2,
            "linecolor": "white",
            "showbackground": true,
            "ticks": "",
            "zerolinecolor": "white"
           },
           "zaxis": {
            "backgroundcolor": "#E5ECF6",
            "gridcolor": "white",
            "gridwidth": 2,
            "linecolor": "white",
            "showbackground": true,
            "ticks": "",
            "zerolinecolor": "white"
           }
          },
          "shapedefaults": {
           "line": {
            "color": "#2a3f5f"
           }
          },
          "ternary": {
           "aaxis": {
            "gridcolor": "white",
            "linecolor": "white",
            "ticks": ""
           },
           "baxis": {
            "gridcolor": "white",
            "linecolor": "white",
            "ticks": ""
           },
           "bgcolor": "#E5ECF6",
           "caxis": {
            "gridcolor": "white",
            "linecolor": "white",
            "ticks": ""
           }
          },
          "title": {
           "x": 0.05
          },
          "xaxis": {
           "automargin": true,
           "gridcolor": "white",
           "linecolor": "white",
           "ticks": "",
           "title": {
            "standoff": 15
           },
           "zerolinecolor": "white",
           "zerolinewidth": 2
          },
          "yaxis": {
           "automargin": true,
           "gridcolor": "white",
           "linecolor": "white",
           "ticks": "",
           "title": {
            "standoff": 15
           },
           "zerolinecolor": "white",
           "zerolinewidth": 2
          }
         }
        },
        "title": {
         "text": "Distribution of Classes A, B, and C"
        },
        "xaxis": {
         "title": {
          "text": "Size"
         }
        },
        "yaxis": {
         "ticktext": [
          "Classes A, B, and C"
         ],
         "tickvals": [
          "Distribution"
         ],
         "title": {
          "text": "Classes"
         }
        }
       }
      },
      "text/html": [
       "<div>                            <div id=\"60ac43f8-572f-4086-a3ac-59472d3c6a75\" class=\"plotly-graph-div\" style=\"height:525px; width:100%;\"></div>            <script type=\"text/javascript\">                require([\"plotly\"], function(Plotly) {                    window.PLOTLYENV=window.PLOTLYENV || {};                                    if (document.getElementById(\"60ac43f8-572f-4086-a3ac-59472d3c6a75\")) {                    Plotly.newPlot(                        \"60ac43f8-572f-4086-a3ac-59472d3c6a75\",                        [{\"insidetextanchor\":\"middle\",\"marker\":{\"color\":\"blue\"},\"orientation\":\"h\",\"text\":\"Class A\",\"textposition\":\"inside\",\"x\":[10],\"y\":[\"Distribution\"],\"type\":\"bar\"},{\"insidetextanchor\":\"middle\",\"marker\":{\"color\":\"orange\"},\"orientation\":\"h\",\"text\":\"Class B\",\"textposition\":\"inside\",\"x\":[20],\"y\":[\"Distribution\"],\"type\":\"bar\"},{\"insidetextanchor\":\"middle\",\"marker\":{\"color\":\"green\",\"line\":{\"color\":\"black\",\"width\":2}},\"orientation\":\"h\",\"text\":\"Class C\",\"textposition\":\"inside\",\"x\":[30],\"y\":[\"Distribution\"],\"type\":\"bar\"}],                        {\"template\":{\"data\":{\"histogram2dcontour\":[{\"type\":\"histogram2dcontour\",\"colorbar\":{\"outlinewidth\":0,\"ticks\":\"\"},\"colorscale\":[[0.0,\"#0d0887\"],[0.1111111111111111,\"#46039f\"],[0.2222222222222222,\"#7201a8\"],[0.3333333333333333,\"#9c179e\"],[0.4444444444444444,\"#bd3786\"],[0.5555555555555556,\"#d8576b\"],[0.6666666666666666,\"#ed7953\"],[0.7777777777777778,\"#fb9f3a\"],[0.8888888888888888,\"#fdca26\"],[1.0,\"#f0f921\"]]}],\"choropleth\":[{\"type\":\"choropleth\",\"colorbar\":{\"outlinewidth\":0,\"ticks\":\"\"}}],\"histogram2d\":[{\"type\":\"histogram2d\",\"colorbar\":{\"outlinewidth\":0,\"ticks\":\"\"},\"colorscale\":[[0.0,\"#0d0887\"],[0.1111111111111111,\"#46039f\"],[0.2222222222222222,\"#7201a8\"],[0.3333333333333333,\"#9c179e\"],[0.4444444444444444,\"#bd3786\"],[0.5555555555555556,\"#d8576b\"],[0.6666666666666666,\"#ed7953\"],[0.7777777777777778,\"#fb9f3a\"],[0.8888888888888888,\"#fdca26\"],[1.0,\"#f0f921\"]]}],\"heatmap\":[{\"type\":\"heatmap\",\"colorbar\":{\"outlinewidth\":0,\"ticks\":\"\"},\"colorscale\":[[0.0,\"#0d0887\"],[0.1111111111111111,\"#46039f\"],[0.2222222222222222,\"#7201a8\"],[0.3333333333333333,\"#9c179e\"],[0.4444444444444444,\"#bd3786\"],[0.5555555555555556,\"#d8576b\"],[0.6666666666666666,\"#ed7953\"],[0.7777777777777778,\"#fb9f3a\"],[0.8888888888888888,\"#fdca26\"],[1.0,\"#f0f921\"]]}],\"heatmapgl\":[{\"type\":\"heatmapgl\",\"colorbar\":{\"outlinewidth\":0,\"ticks\":\"\"},\"colorscale\":[[0.0,\"#0d0887\"],[0.1111111111111111,\"#46039f\"],[0.2222222222222222,\"#7201a8\"],[0.3333333333333333,\"#9c179e\"],[0.4444444444444444,\"#bd3786\"],[0.5555555555555556,\"#d8576b\"],[0.6666666666666666,\"#ed7953\"],[0.7777777777777778,\"#fb9f3a\"],[0.8888888888888888,\"#fdca26\"],[1.0,\"#f0f921\"]]}],\"contourcarpet\":[{\"type\":\"contourcarpet\",\"colorbar\":{\"outlinewidth\":0,\"ticks\":\"\"}}],\"contour\":[{\"type\":\"contour\",\"colorbar\":{\"outlinewidth\":0,\"ticks\":\"\"},\"colorscale\":[[0.0,\"#0d0887\"],[0.1111111111111111,\"#46039f\"],[0.2222222222222222,\"#7201a8\"],[0.3333333333333333,\"#9c179e\"],[0.4444444444444444,\"#bd3786\"],[0.5555555555555556,\"#d8576b\"],[0.6666666666666666,\"#ed7953\"],[0.7777777777777778,\"#fb9f3a\"],[0.8888888888888888,\"#fdca26\"],[1.0,\"#f0f921\"]]}],\"surface\":[{\"type\":\"surface\",\"colorbar\":{\"outlinewidth\":0,\"ticks\":\"\"},\"colorscale\":[[0.0,\"#0d0887\"],[0.1111111111111111,\"#46039f\"],[0.2222222222222222,\"#7201a8\"],[0.3333333333333333,\"#9c179e\"],[0.4444444444444444,\"#bd3786\"],[0.5555555555555556,\"#d8576b\"],[0.6666666666666666,\"#ed7953\"],[0.7777777777777778,\"#fb9f3a\"],[0.8888888888888888,\"#fdca26\"],[1.0,\"#f0f921\"]]}],\"mesh3d\":[{\"type\":\"mesh3d\",\"colorbar\":{\"outlinewidth\":0,\"ticks\":\"\"}}],\"scatter\":[{\"fillpattern\":{\"fillmode\":\"overlay\",\"size\":10,\"solidity\":0.2},\"type\":\"scatter\"}],\"parcoords\":[{\"type\":\"parcoords\",\"line\":{\"colorbar\":{\"outlinewidth\":0,\"ticks\":\"\"}}}],\"scatterpolargl\":[{\"type\":\"scatterpolargl\",\"marker\":{\"colorbar\":{\"outlinewidth\":0,\"ticks\":\"\"}}}],\"bar\":[{\"error_x\":{\"color\":\"#2a3f5f\"},\"error_y\":{\"color\":\"#2a3f5f\"},\"marker\":{\"line\":{\"color\":\"#E5ECF6\",\"width\":0.5},\"pattern\":{\"fillmode\":\"overlay\",\"size\":10,\"solidity\":0.2}},\"type\":\"bar\"}],\"scattergeo\":[{\"type\":\"scattergeo\",\"marker\":{\"colorbar\":{\"outlinewidth\":0,\"ticks\":\"\"}}}],\"scatterpolar\":[{\"type\":\"scatterpolar\",\"marker\":{\"colorbar\":{\"outlinewidth\":0,\"ticks\":\"\"}}}],\"histogram\":[{\"marker\":{\"pattern\":{\"fillmode\":\"overlay\",\"size\":10,\"solidity\":0.2}},\"type\":\"histogram\"}],\"scattergl\":[{\"type\":\"scattergl\",\"marker\":{\"colorbar\":{\"outlinewidth\":0,\"ticks\":\"\"}}}],\"scatter3d\":[{\"type\":\"scatter3d\",\"line\":{\"colorbar\":{\"outlinewidth\":0,\"ticks\":\"\"}},\"marker\":{\"colorbar\":{\"outlinewidth\":0,\"ticks\":\"\"}}}],\"scattermapbox\":[{\"type\":\"scattermapbox\",\"marker\":{\"colorbar\":{\"outlinewidth\":0,\"ticks\":\"\"}}}],\"scatterternary\":[{\"type\":\"scatterternary\",\"marker\":{\"colorbar\":{\"outlinewidth\":0,\"ticks\":\"\"}}}],\"scattercarpet\":[{\"type\":\"scattercarpet\",\"marker\":{\"colorbar\":{\"outlinewidth\":0,\"ticks\":\"\"}}}],\"carpet\":[{\"aaxis\":{\"endlinecolor\":\"#2a3f5f\",\"gridcolor\":\"white\",\"linecolor\":\"white\",\"minorgridcolor\":\"white\",\"startlinecolor\":\"#2a3f5f\"},\"baxis\":{\"endlinecolor\":\"#2a3f5f\",\"gridcolor\":\"white\",\"linecolor\":\"white\",\"minorgridcolor\":\"white\",\"startlinecolor\":\"#2a3f5f\"},\"type\":\"carpet\"}],\"table\":[{\"cells\":{\"fill\":{\"color\":\"#EBF0F8\"},\"line\":{\"color\":\"white\"}},\"header\":{\"fill\":{\"color\":\"#C8D4E3\"},\"line\":{\"color\":\"white\"}},\"type\":\"table\"}],\"barpolar\":[{\"marker\":{\"line\":{\"color\":\"#E5ECF6\",\"width\":0.5},\"pattern\":{\"fillmode\":\"overlay\",\"size\":10,\"solidity\":0.2}},\"type\":\"barpolar\"}],\"pie\":[{\"automargin\":true,\"type\":\"pie\"}]},\"layout\":{\"autotypenumbers\":\"strict\",\"colorway\":[\"#636efa\",\"#EF553B\",\"#00cc96\",\"#ab63fa\",\"#FFA15A\",\"#19d3f3\",\"#FF6692\",\"#B6E880\",\"#FF97FF\",\"#FECB52\"],\"font\":{\"color\":\"#2a3f5f\"},\"hovermode\":\"closest\",\"hoverlabel\":{\"align\":\"left\"},\"paper_bgcolor\":\"white\",\"plot_bgcolor\":\"#E5ECF6\",\"polar\":{\"bgcolor\":\"#E5ECF6\",\"angularaxis\":{\"gridcolor\":\"white\",\"linecolor\":\"white\",\"ticks\":\"\"},\"radialaxis\":{\"gridcolor\":\"white\",\"linecolor\":\"white\",\"ticks\":\"\"}},\"ternary\":{\"bgcolor\":\"#E5ECF6\",\"aaxis\":{\"gridcolor\":\"white\",\"linecolor\":\"white\",\"ticks\":\"\"},\"baxis\":{\"gridcolor\":\"white\",\"linecolor\":\"white\",\"ticks\":\"\"},\"caxis\":{\"gridcolor\":\"white\",\"linecolor\":\"white\",\"ticks\":\"\"}},\"coloraxis\":{\"colorbar\":{\"outlinewidth\":0,\"ticks\":\"\"}},\"colorscale\":{\"sequential\":[[0.0,\"#0d0887\"],[0.1111111111111111,\"#46039f\"],[0.2222222222222222,\"#7201a8\"],[0.3333333333333333,\"#9c179e\"],[0.4444444444444444,\"#bd3786\"],[0.5555555555555556,\"#d8576b\"],[0.6666666666666666,\"#ed7953\"],[0.7777777777777778,\"#fb9f3a\"],[0.8888888888888888,\"#fdca26\"],[1.0,\"#f0f921\"]],\"sequentialminus\":[[0.0,\"#0d0887\"],[0.1111111111111111,\"#46039f\"],[0.2222222222222222,\"#7201a8\"],[0.3333333333333333,\"#9c179e\"],[0.4444444444444444,\"#bd3786\"],[0.5555555555555556,\"#d8576b\"],[0.6666666666666666,\"#ed7953\"],[0.7777777777777778,\"#fb9f3a\"],[0.8888888888888888,\"#fdca26\"],[1.0,\"#f0f921\"]],\"diverging\":[[0,\"#8e0152\"],[0.1,\"#c51b7d\"],[0.2,\"#de77ae\"],[0.3,\"#f1b6da\"],[0.4,\"#fde0ef\"],[0.5,\"#f7f7f7\"],[0.6,\"#e6f5d0\"],[0.7,\"#b8e186\"],[0.8,\"#7fbc41\"],[0.9,\"#4d9221\"],[1,\"#276419\"]]},\"xaxis\":{\"gridcolor\":\"white\",\"linecolor\":\"white\",\"ticks\":\"\",\"title\":{\"standoff\":15},\"zerolinecolor\":\"white\",\"automargin\":true,\"zerolinewidth\":2},\"yaxis\":{\"gridcolor\":\"white\",\"linecolor\":\"white\",\"ticks\":\"\",\"title\":{\"standoff\":15},\"zerolinecolor\":\"white\",\"automargin\":true,\"zerolinewidth\":2},\"scene\":{\"xaxis\":{\"backgroundcolor\":\"#E5ECF6\",\"gridcolor\":\"white\",\"linecolor\":\"white\",\"showbackground\":true,\"ticks\":\"\",\"zerolinecolor\":\"white\",\"gridwidth\":2},\"yaxis\":{\"backgroundcolor\":\"#E5ECF6\",\"gridcolor\":\"white\",\"linecolor\":\"white\",\"showbackground\":true,\"ticks\":\"\",\"zerolinecolor\":\"white\",\"gridwidth\":2},\"zaxis\":{\"backgroundcolor\":\"#E5ECF6\",\"gridcolor\":\"white\",\"linecolor\":\"white\",\"showbackground\":true,\"ticks\":\"\",\"zerolinecolor\":\"white\",\"gridwidth\":2}},\"shapedefaults\":{\"line\":{\"color\":\"#2a3f5f\"}},\"annotationdefaults\":{\"arrowcolor\":\"#2a3f5f\",\"arrowhead\":0,\"arrowwidth\":1},\"geo\":{\"bgcolor\":\"white\",\"landcolor\":\"#E5ECF6\",\"subunitcolor\":\"white\",\"showland\":true,\"showlakes\":true,\"lakecolor\":\"white\"},\"title\":{\"x\":0.05},\"mapbox\":{\"style\":\"light\"}}},\"yaxis\":{\"title\":{\"text\":\"Classes\"},\"tickvals\":[\"Distribution\"],\"ticktext\":[\"Classes A, B, and C\"]},\"barmode\":\"stack\",\"title\":{\"text\":\"Distribution of Classes A, B, and C\"},\"xaxis\":{\"title\":{\"text\":\"Size\"}},\"legend\":{\"title\":{\"text\":\"Classes\"}}},                        {\"responsive\": true}                    ).then(function(){\n",
       "                            \n",
       "var gd = document.getElementById('60ac43f8-572f-4086-a3ac-59472d3c6a75');\n",
       "var x = new MutationObserver(function (mutations, observer) {{\n",
       "        var display = window.getComputedStyle(gd).display;\n",
       "        if (!display || display === 'none') {{\n",
       "            console.log([gd, 'removed!']);\n",
       "            Plotly.purge(gd);\n",
       "            observer.disconnect();\n",
       "        }}\n",
       "}});\n",
       "\n",
       "// Listen for the removal of the full notebook cells\n",
       "var notebookContainer = gd.closest('#notebook-container');\n",
       "if (notebookContainer) {{\n",
       "    x.observe(notebookContainer, {childList: true});\n",
       "}}\n",
       "\n",
       "// Listen for the clearing of the current output cell\n",
       "var outputEl = gd.closest('.output');\n",
       "if (outputEl) {{\n",
       "    x.observe(outputEl, {childList: true});\n",
       "}}\n",
       "\n",
       "                        })                };                });            </script>        </div>"
      ]
     },
     "metadata": {},
     "output_type": "display_data"
    }
   ],
   "source": [
    "import plotly.graph_objects as go\n",
    "\n",
    "# Data\n",
    "classes = ['A', 'B', 'C']\n",
    "sizes = [10, 20, 30]\n",
    "\n",
    "# Create the bar chart\n",
    "fig = go.Figure()\n",
    "\n",
    "fig.add_trace(go.Bar(\n",
    "    y=['Distribution'],\n",
    "    x=[sizes[0]],\n",
    "    text='Class A',\n",
    "    textposition='inside',\n",
    "    insidetextanchor='middle',\n",
    "    orientation='h',\n",
    "    marker=dict(color='blue')\n",
    "))\n",
    "\n",
    "fig.add_trace(go.Bar(\n",
    "    y=['Distribution'],\n",
    "    x=[sizes[1]],\n",
    "    text='Class B',\n",
    "    textposition='inside',\n",
    "    insidetextanchor='middle',\n",
    "    orientation='h',\n",
    "    marker=dict(color='orange')\n",
    "))\n",
    "\n",
    "fig.add_trace(go.Bar(\n",
    "    y=['Distribution'],\n",
    "    x=[sizes[2]],\n",
    "    marker_line=dict(width=2, color='black'),\n",
    "    \n",
    "    text='Class C',\n",
    "    textposition='inside',\n",
    "    insidetextanchor='middle',\n",
    "    orientation='h',\n",
    "    marker=dict(color='green')\n",
    "))\n",
    "\n",
    "# Update layout\n",
    "fig.update_layout(\n",
    "    barmode='stack',\n",
    "    title='Distribution of Classes A, B, and C',\n",
    "    xaxis_title='Size',\n",
    "    yaxis_title='Classes',\n",
    "    yaxis=dict(tickvals=['Distribution'], ticktext=['Classes A, B, and C']),\n",
    "    legend_title='Classes'\n",
    ")\n",
    "fig.show()\n"
   ]
  },
  {
   "cell_type": "markdown",
   "metadata": {},
   "source": [
    "# confusion matrix"
   ]
  },
  {
   "cell_type": "code",
   "execution_count": null,
   "metadata": {},
   "outputs": [],
   "source": [
    "import pandas as pd\n",
    "import matplotlib.pyplot as plt\n",
    "\n",
    "import seaborn as sns\n",
    "\n",
    "\n",
    "\n",
    "# Load the confusion matrix CSV file to inspect its content\n",
    "\n",
    "file_path = '/home/murat/Projects/satellitepy/docs/paper/conf_matrix.csv'\n",
    "\n",
    "conf_matrix = pd.read_csv(file_path, index_col=0)\n",
    "\n",
    "# Remove the specified labels (A380, A340, and E190) from the confusion matrix\n",
    "labels_to_remove = ['A380', 'A340', 'E190']\n",
    "filtered_matrix = conf_matrix.drop(labels=labels_to_remove, axis=0).drop(labels=labels_to_remove, axis=1)\n",
    "\n",
    "\n",
    "# Normalize the confusion matrix row-wise (divide each row by its sum)\n",
    "row_normalized_matrix = filtered_matrix.div(filtered_matrix.sum(axis=1), axis=0)\n",
    "\n",
    "# Plot the row-normalized confusion matrix\n",
    "plt.figure(figsize=(18, 14))\n",
    "ax = sns.heatmap(\n",
    "    row_normalized_matrix,\n",
    "    annot=True,\n",
    "    fmt=\".2f\",  # Format to show two decimal places\n",
    "    cmap=\"viridis\",\n",
    "    # cbar_kws={'label': 'Proportion'},\n",
    "    linewidths=0.5\n",
    ")\n",
    "\n",
    "# Update axis labels and title\n",
    "ax.set_xlabel('Predicted Labels', fontsize=20)\n",
    "ax.set_ylabel('True Labels', fontsize=20)\n",
    "ax.set_title('FineAir30 Confusion Matrix', fontsize=25)\n",
    "\n",
    "# Adjust x-axis labels for readability\n",
    "plt.xticks(rotation=45, ha='right', fontsize=12)\n",
    "plt.yticks(fontsize=12)\n",
    "\n",
    "# Show the normalized heatmap\n",
    "plt.tight_layout()\n",
    "plt.show()\n"
   ]
  },
  {
   "cell_type": "markdown",
   "metadata": {},
   "source": [
    "# object dimension distribution"
   ]
  },
  {
   "cell_type": "code",
   "execution_count": 1,
   "metadata": {},
   "outputs": [],
   "source": [
    "import matplotlib.pyplot as plt\n",
    "from satellitepy.data.labels import read_label\n",
    "from satellitepy.utils.path_utils import get_file_paths\n",
    "from satellitepy.data.bbox import BBox\n",
    "from pathlib import Path\n",
    "import numpy as np"
   ]
  },
  {
   "cell_type": "code",
   "execution_count": 2,
   "metadata": {},
   "outputs": [],
   "source": [
    "labels_dict = {'/mnt/2tb-0/satellitepy/data/DOTA/train/bounding_boxes/':'dota'}#, '/mnt/2tb-0/satellitepy/data/xview/train_labels/satpy_labels/':'satellitepy'}\n",
    "# labels_dict = {'/mnt/2tb-0/satellitepy/data/Gaofen/train/label_xml/':'fair1m', '/mnt/2tb-0/satellitepy/data/Rareplanes/train/split_labels/labels/':'rareplanes_real'}\n",
    "# labels_dict = {'/mnt/2tb-0/satellitepy/data/VEDAI/Annotations1024/':'vedai'}"
   ]
  },
  {
   "cell_type": "code",
   "execution_count": 3,
   "metadata": {},
   "outputs": [],
   "source": [
    "# Ignore VHR and DIOR\n",
    "obj_dim_dict =  {dataset_name:{'cgc':{}, 'role':{}} for dataset_name in labels_dict.values()}\n",
    "for label_folder, label_format in labels_dict.items():\n",
    "    for label_path in get_file_paths(Path(label_folder)):\n",
    "        labels = read_label(label_path,label_format)\n",
    "        cgc_values = labels['coarse-class']\n",
    "        role_values = labels['role']\n",
    "        for i, bbox_corners in enumerate(labels['obboxes']):\n",
    "            my_bbox = BBox(corners=bbox_corners)\n",
    "            cx, cy, width, height, angle = my_bbox.get_params()\n",
    "            if cgc_values[i] not in obj_dim_dict[label_format]['cgc']:\n",
    "                obj_dim_dict[label_format]['cgc'][cgc_values[i]] = {'w':[width],'h':[height]}\n",
    "            else:\n",
    "                obj_dim_dict[label_format]['cgc'][cgc_values[i]]['w'].append(width)\n",
    "                obj_dim_dict[label_format]['cgc'][cgc_values[i]]['h'].append(height)\n",
    "            if role_values[i] not in obj_dim_dict[label_format]['role']:\n",
    "                obj_dim_dict[label_format]['role'][role_values[i]] = {'w':[width],'h':[height]}\n",
    "            else:\n",
    "                obj_dim_dict[label_format]['role'][role_values[i]]['w'].append(width)\n",
    "                obj_dim_dict[label_format]['role'][role_values[i]]['h'].append(height)\n",
    "# # print(obj_dim_dict)"
   ]
  },
  {
   "cell_type": "code",
   "execution_count": 19,
   "metadata": {},
   "outputs": [
    {
     "name": "stdout",
     "output_type": "stream",
     "text": [
      "[ 14.31782106 377.08577787]\n",
      "[ 13.29928766 391.54493414]\n"
     ]
    },
    {
     "data": {
      "image/png": "[encoded data removed]",
      "text/plain": [
       "<Figure size 640x480 with 4 Axes>"
      ]
     },
     "metadata": {},
     "output_type": "display_data"
    }
   ],
   "source": [
    "w_values = obj_dim_dict['dota']['cgc']['airplane']['w']\n",
    "h_values = obj_dim_dict['dota']['cgc']['airplane']['h']\n",
    "# print(f\"Mean width and length: {np.mean(w_values)}, {np.mean(h_values)}\")\n",
    "# print(np.percentile(np.array(w_values)/np.array(h_values),q=[5,95]))\n",
    "# print(np.percentile(np.array(h_values)*np.array(w_values),q=[1,99]))\n",
    "print(np.percentile(w_values,q=[1,99]))\n",
    "print(np.percentile(h_values,q=[1,99]))\n",
    "# print(np.percentile(np.array(w_values)/np.array(h_values)))\n",
    "fig, ax = plt.subplots(4)\n",
    "# ax[0].scatter(obj_dim_dict['rareplanes_real']['cgc']['airplane']['w'],obj_dim_dict['rareplanes_real']['cgc']['airplane']['h'],s=2,c='b')\n",
    "ax[0].scatter(obj_dim_dict['dota']['cgc']['airplane']['w'],obj_dim_dict['dota']['cgc']['airplane']['h'],s=2,c='r')\n",
    "\n",
    "ax[1].hist(w_values,bins=30)\n",
    "# ax[2].hist(h_values,bins=30)\n",
    "ax[3].hist(np.array(w_values)/np.array(h_values),bins=30)\n",
    "ax[2].hist(np.array(h_values)/np.array(w_values),bins=30)\n",
    "plt.show()"
   ]
  },
  {
   "cell_type": "code",
   "execution_count": 28,
   "metadata": {},
   "outputs": [],
   "source": [
    "scaling_factor = 50/30\n",
    "for role in obj_dim_dict['fair1m']['role'].keys():\n",
    "    for dim in obj_dim_dict['fair1m']['role'][role].keys():\n",
    "        obj_dim_dict['fair1m']['role'][role][dim] = np.array(obj_dim_dict['fair1m']['role'][role][dim]) * scaling_factor"
   ]
  },
  {
   "cell_type": "code",
   "execution_count": 31,
   "metadata": {},
   "outputs": [
    {
     "data": {
      "image/png": "[encoded data removed]",
      "text/plain": [
       "<Figure size 640x480 with 3 Axes>"
      ]
     },
     "metadata": {},
     "output_type": "display_data"
    }
   ],
   "source": [
    "\n",
    "fig, ax = plt.subplots(3)\n",
    "ax[0].scatter(obj_dim_dict['rareplanes_real']['cgc']['airplane']['w'],obj_dim_dict['rareplanes_real']['cgc']['airplane']['h'],s=2,c='b')\n",
    "ax[0].scatter(obj_dim_dict['fair1m']['cgc']['airplane']['w'],obj_dim_dict['fair1m']['cgc']['airplane']['h'],s=2,c='r')\n",
    "\n",
    "# ax[1].scatter(obj_dim_dict['rareplanes_real']['role']['Small Civil Transport/Utility']['w'],obj_dim_dict['rareplanes_real']['role']['Small Civil Transport/Utility']['h'],s=2,c='r')\n",
    "ax[1].scatter(obj_dim_dict['rareplanes_real']['role']['Medium Civil Transport/Utility']['w'],obj_dim_dict['rareplanes_real']['role']['Medium Civil Transport/Utility']['h'],s=2,c='cornflowerblue')\n",
    "ax[1].scatter(obj_dim_dict['rareplanes_real']['role']['Large Civil Transport/Utility']['w'],obj_dim_dict['rareplanes_real']['role']['Large Civil Transport/Utility']['h'],s=2,c='mediumblue')\n",
    "ax[1].scatter(obj_dim_dict['fair1m']['role']['Medium Civil Transport/Utility']['w'],obj_dim_dict['fair1m']['role']['Medium Civil Transport/Utility']['h'],s=2,c='r')\n",
    "ax[1].scatter(obj_dim_dict['fair1m']['role']['Large Civil Transport/Utility']['w'],obj_dim_dict['fair1m']['role']['Large Civil Transport/Utility']['h'],s=2,c='m')\n",
    "\n",
    "ax[2].scatter(obj_dim_dict['fair1m']['role']['Medium Civil Transport/Utility']['w'],obj_dim_dict['fair1m']['role']['Medium Civil Transport/Utility']['h'],s=2,c='b')\n",
    "ax[2].scatter(obj_dim_dict['fair1m']['role']['Large Civil Transport/Utility']['w'],obj_dim_dict['fair1m']['role']['Large Civil Transport/Utility']['h'],s=2,c='g')\n",
    "\n",
    "\n",
    "plt.show()"
   ]
  },
  {
   "cell_type": "code",
   "execution_count": null,
   "metadata": {},
   "outputs": [],
   "source": []
  }
 ],
 "metadata": {
  "kernelspec": {
   "display_name": "venv_satellitepy",
   "language": "python",
   "name": "python3"
  },
  "language_info": {
   "codemirror_mode": {
    "name": "ipython",
    "version": 3
   },
   "file_extension": ".py",
   "mimetype": "text/x-python",
   "name": "python",
   "nbconvert_exporter": "python",
   "pygments_lexer": "ipython3",
   "version": "3.10.12"
  }
 },
 "nbformat": 4,
 "nbformat_minor": 2
}
